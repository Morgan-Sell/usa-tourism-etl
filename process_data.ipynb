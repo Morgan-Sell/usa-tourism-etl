{
 "cells": [
  {
   "cell_type": "markdown",
   "id": "particular-password",
   "metadata": {},
   "source": [
    "# Process Data"
   ]
  },
  {
   "cell_type": "code",
   "execution_count": 3,
   "id": "prompt-delight",
   "metadata": {},
   "outputs": [],
   "source": [
    "import os\n",
    "import glob\n",
    "import psycopg2\n",
    "import pandas as pd\n",
    "from sql_queries import *"
   ]
  },
  {
   "cell_type": "code",
   "execution_count": 3,
   "id": "fatty-waters",
   "metadata": {},
   "outputs": [],
   "source": [
    "def process_weather_data(input_data, output_data):\n",
    "    \"\"\"Extracts and clean the desired data.\n",
    "    \n",
    "    input_data: location of where the data exists and file type\n",
    "    output_data: location to export and save the data\n",
    "    \n",
    "    \n",
    "    \n",
    "    \"\"\"\n",
    "    "
   ]
  },
  {
   "cell_type": "markdown",
   "id": "reasonable-cliff",
   "metadata": {},
   "source": [
    "### PostgreSQL Connection"
   ]
  },
  {
   "cell_type": "code",
   "execution_count": 7,
   "id": "variable-magnet",
   "metadata": {},
   "outputs": [],
   "source": [
    "conn = psycopg2.connect(\n",
    "    host=\"localhost\",\n",
    "    port=5432,\n",
    "    database=\"udac_cap\",\n",
    "    user=\"morgan\",\n",
    "    password=\"pgadmin\") # INSERT PASSWORD\n",
    "cur = conn.cursor()"
   ]
  },
  {
   "cell_type": "code",
   "execution_count": 8,
   "id": "norman-editor",
   "metadata": {},
   "outputs": [],
   "source": [
    "cur.execute(staging_visits_table_create)"
   ]
  },
  {
   "cell_type": "markdown",
   "id": "included-milton",
   "metadata": {},
   "source": [
    "### Staging Tables"
   ]
  },
  {
   "cell_type": "markdown",
   "id": "bored-syndication",
   "metadata": {},
   "source": [
    "## Weather\n",
    "\n",
    "'United States"
   ]
  },
  {
   "cell_type": "code",
   "execution_count": 4,
   "id": "correct-geography",
   "metadata": {},
   "outputs": [],
   "source": [
    "weather = pd.read_csv('data/GlobalLandTemperaturesByCity.csv')\n",
    "weather = weather[weather.Country == 'United States'].copy()"
   ]
  },
  {
   "cell_type": "code",
   "execution_count": 5,
   "id": "aggregate-lighter",
   "metadata": {},
   "outputs": [
    {
     "data": {
      "text/plain": [
       "(687289, 7)"
      ]
     },
     "execution_count": 5,
     "metadata": {},
     "output_type": "execute_result"
    }
   ],
   "source": [
    "weather.shape"
   ]
  },
  {
   "cell_type": "markdown",
   "id": "assisted-brake",
   "metadata": {},
   "source": [
    "## Tourists\n",
    "\n",
    "- Check for more than one copy of the citizen_id"
   ]
  },
  {
   "cell_type": "code",
   "execution_count": null,
   "id": "noticed-shopping",
   "metadata": {},
   "outputs": [],
   "source": [
    "df = pd.read_csv('data/immigration_data_sample.csv')\n",
    "\n",
    "df = df[['cicid', 'biryear', 'id94res', 'gender']].values.tolist()[0]\n"
   ]
  }
 ],
 "metadata": {
  "kernelspec": {
   "display_name": "Python 3",
   "language": "python",
   "name": "python3"
  },
  "language_info": {
   "codemirror_mode": {
    "name": "ipython",
    "version": 3
   },
   "file_extension": ".py",
   "mimetype": "text/x-python",
   "name": "python",
   "nbconvert_exporter": "python",
   "pygments_lexer": "ipython3",
   "version": "3.9.2"
  }
 },
 "nbformat": 4,
 "nbformat_minor": 5
}
