{
 "cells": [
  {
   "cell_type": "markdown",
   "id": "secret-controversy",
   "metadata": {},
   "source": [
    "# Exploratory Data Analsis and Project Scope"
   ]
  },
  {
   "cell_type": "code",
   "execution_count": 1,
   "id": "crucial-truck",
   "metadata": {},
   "outputs": [],
   "source": [
    "import pandas as pd\n",
    "import numpy as np\n",
    "\n",
    "import matplotlib.pyplot as plt\n",
    "import seaborn as sns\n",
    "%matplotlib inline\n",
    "\n",
    "import utils\n",
    "\n",
    "from datetime import datetime\n",
    "\n",
    "from sql_queries import *"
   ]
  },
  {
   "cell_type": "markdown",
   "id": "normal-monroe",
   "metadata": {},
   "source": [
    "### General Reference"
   ]
  },
  {
   "cell_type": "code",
   "execution_count": 2,
   "id": "textile-radius",
   "metadata": {},
   "outputs": [],
   "source": [
    "airports = pd.read_csv('data/airport_codes.csv')\n",
    "\n",
    "\n"
   ]
  },
  {
   "cell_type": "code",
   "execution_count": 3,
   "id": "optional-mentor",
   "metadata": {},
   "outputs": [],
   "source": [
    "start_epoch = pd.Timestamp('1960-1-1')"
   ]
  },
  {
   "cell_type": "code",
   "execution_count": 4,
   "id": "bottom-keeping",
   "metadata": {},
   "outputs": [],
   "source": [
    "with open('./data/I94_SAS_Labels_Descriptions.sas') as f:\n",
    "    f_content = f.read()\n",
    "    f_content = f_content.replace(\"\\t\", \"\")"
   ]
  },
  {
   "cell_type": "code",
   "execution_count": 5,
   "id": "incident-defensive",
   "metadata": {},
   "outputs": [
    {
     "data": {
      "text/plain": [
       "str"
      ]
     },
     "execution_count": 5,
     "metadata": {},
     "output_type": "execute_result"
    }
   ],
   "source": [
    "type(f_content)"
   ]
  },
  {
   "cell_type": "code",
   "execution_count": 6,
   "id": "civilian-perspective",
   "metadata": {},
   "outputs": [],
   "source": [
    "def code_mapper(file, label):\n",
    "    \"\"\" Creates map b/t codes and descriptions/names.\n",
    "    \n",
    "    file: document that contains content\n",
    "    label: The attribute that will be mapped.\n",
    "    \n",
    "    \"\"\"\n",
    "    file2 = file([label])\n",
    "    file2 = file2[:file2.index(\";\")].sploit(\"\\n\")\n",
    "    file2 = [item.replace(\"\", \"\") for item in file2]\n",
    "    content = [item.split(\"=\") for item in file2[1:]]\n",
    "    map_dict = {item[0].strip(): item[1].strip() for item in content if len(item) == 2}\n",
    "    return map_dict"
   ]
  },
  {
   "cell_type": "code",
   "execution_count": 7,
   "id": "compound-madison",
   "metadata": {},
   "outputs": [],
   "source": [
    "#i94cit_res = code_mapper(f_content, \"i94cntyl\")"
   ]
  },
  {
   "cell_type": "markdown",
   "id": "demanding-population",
   "metadata": {},
   "source": [
    "---\n",
    "## Airports\n",
    "\n",
    "#### Notes\n",
    "- Use iata_code as unique identifies. IATA = International Airport Transport Association\n",
    "\n",
    "\n",
    "#### Extract Conditions\n",
    "- iso_country = \"US\"\n",
    "- type = \"large_airport\" or \"medium_airport\"\n",
    "\n",
    "\n",
    "#### Errors\n",
    "- Duplicate values\n",
    "- Missing values - Do not accep"
   ]
  },
  {
   "cell_type": "code",
   "execution_count": 8,
   "id": "limiting-livestock",
   "metadata": {},
   "outputs": [
    {
     "data": {
      "text/plain": [
       "array(['heliport', 'small_airport', 'closed', 'seaplane_base',\n",
       "       'balloonport', 'medium_airport', 'large_airport'], dtype=object)"
      ]
     },
     "execution_count": 8,
     "metadata": {},
     "output_type": "execute_result"
    }
   ],
   "source": [
    "airports.type.unique()"
   ]
  },
  {
   "cell_type": "code",
   "execution_count": 9,
   "id": "whole-utility",
   "metadata": {},
   "outputs": [
    {
     "data": {
      "text/html": [
       "<div>\n",
       "<style scoped>\n",
       "    .dataframe tbody tr th:only-of-type {\n",
       "        vertical-align: middle;\n",
       "    }\n",
       "\n",
       "    .dataframe tbody tr th {\n",
       "        vertical-align: top;\n",
       "    }\n",
       "\n",
       "    .dataframe thead th {\n",
       "        text-align: right;\n",
       "    }\n",
       "</style>\n",
       "<table border=\"1\" class=\"dataframe\">\n",
       "  <thead>\n",
       "    <tr style=\"text-align: right;\">\n",
       "      <th></th>\n",
       "      <th>ident</th>\n",
       "      <th>type</th>\n",
       "      <th>name</th>\n",
       "      <th>elevation_ft</th>\n",
       "      <th>continent</th>\n",
       "      <th>iso_country</th>\n",
       "      <th>iso_region</th>\n",
       "      <th>municipality</th>\n",
       "      <th>gps_code</th>\n",
       "      <th>iata_code</th>\n",
       "      <th>local_code</th>\n",
       "      <th>coordinates</th>\n",
       "    </tr>\n",
       "  </thead>\n",
       "  <tbody>\n",
       "    <tr>\n",
       "      <th>440</th>\n",
       "      <td>07FA</td>\n",
       "      <td>small_airport</td>\n",
       "      <td>Ocean Reef Club Airport</td>\n",
       "      <td>8.0</td>\n",
       "      <td>NaN</td>\n",
       "      <td>US</td>\n",
       "      <td>US-FL</td>\n",
       "      <td>Key Largo</td>\n",
       "      <td>07FA</td>\n",
       "      <td>OCA</td>\n",
       "      <td>07FA</td>\n",
       "      <td>-80.274803161621, 25.325399398804</td>\n",
       "    </tr>\n",
       "    <tr>\n",
       "      <th>594</th>\n",
       "      <td>0AK</td>\n",
       "      <td>small_airport</td>\n",
       "      <td>Pilot Station Airport</td>\n",
       "      <td>305.0</td>\n",
       "      <td>NaN</td>\n",
       "      <td>US</td>\n",
       "      <td>US-AK</td>\n",
       "      <td>Pilot Station</td>\n",
       "      <td>NaN</td>\n",
       "      <td>PQS</td>\n",
       "      <td>0AK</td>\n",
       "      <td>-162.899994, 61.934601</td>\n",
       "    </tr>\n",
       "    <tr>\n",
       "      <th>673</th>\n",
       "      <td>0CO2</td>\n",
       "      <td>small_airport</td>\n",
       "      <td>Crested Butte Airpark</td>\n",
       "      <td>8980.0</td>\n",
       "      <td>NaN</td>\n",
       "      <td>US</td>\n",
       "      <td>US-CO</td>\n",
       "      <td>Crested Butte</td>\n",
       "      <td>0CO2</td>\n",
       "      <td>CSE</td>\n",
       "      <td>0CO2</td>\n",
       "      <td>-106.928341, 38.851918</td>\n",
       "    </tr>\n",
       "    <tr>\n",
       "      <th>1088</th>\n",
       "      <td>0TE7</td>\n",
       "      <td>small_airport</td>\n",
       "      <td>LBJ Ranch Airport</td>\n",
       "      <td>1515.0</td>\n",
       "      <td>NaN</td>\n",
       "      <td>US</td>\n",
       "      <td>US-TX</td>\n",
       "      <td>Johnson City</td>\n",
       "      <td>0TE7</td>\n",
       "      <td>JCY</td>\n",
       "      <td>0TE7</td>\n",
       "      <td>-98.62249755859999, 30.251800537100003</td>\n",
       "    </tr>\n",
       "    <tr>\n",
       "      <th>1402</th>\n",
       "      <td>13MA</td>\n",
       "      <td>small_airport</td>\n",
       "      <td>Metropolitan Airport</td>\n",
       "      <td>418.0</td>\n",
       "      <td>NaN</td>\n",
       "      <td>US</td>\n",
       "      <td>US-MA</td>\n",
       "      <td>Palmer</td>\n",
       "      <td>13MA</td>\n",
       "      <td>PMX</td>\n",
       "      <td>13MA</td>\n",
       "      <td>-72.31140136719999, 42.223300933800004</td>\n",
       "    </tr>\n",
       "  </tbody>\n",
       "</table>\n",
       "</div>"
      ],
      "text/plain": [
       "     ident           type                     name  elevation_ft continent  \\\n",
       "440   07FA  small_airport  Ocean Reef Club Airport           8.0       NaN   \n",
       "594    0AK  small_airport    Pilot Station Airport         305.0       NaN   \n",
       "673   0CO2  small_airport    Crested Butte Airpark        8980.0       NaN   \n",
       "1088  0TE7  small_airport        LBJ Ranch Airport        1515.0       NaN   \n",
       "1402  13MA  small_airport     Metropolitan Airport         418.0       NaN   \n",
       "\n",
       "     iso_country iso_region   municipality gps_code iata_code local_code  \\\n",
       "440           US      US-FL      Key Largo     07FA       OCA       07FA   \n",
       "594           US      US-AK  Pilot Station      NaN       PQS        0AK   \n",
       "673           US      US-CO  Crested Butte     0CO2       CSE       0CO2   \n",
       "1088          US      US-TX   Johnson City     0TE7       JCY       0TE7   \n",
       "1402          US      US-MA         Palmer     13MA       PMX       13MA   \n",
       "\n",
       "                                 coordinates  \n",
       "440        -80.274803161621, 25.325399398804  \n",
       "594                   -162.899994, 61.934601  \n",
       "673                   -106.928341, 38.851918  \n",
       "1088  -98.62249755859999, 30.251800537100003  \n",
       "1402  -72.31140136719999, 42.223300933800004  "
      ]
     },
     "execution_count": 9,
     "metadata": {},
     "output_type": "execute_result"
    }
   ],
   "source": [
    "usa_airports = airports[airports.iso_country == 'US'].copy()\n",
    "usa_airports.dropna(subset=['iata_code'], how='any', inplace=True)\n",
    "usa_airports.head()"
   ]
  },
  {
   "cell_type": "code",
   "execution_count": 10,
   "id": "committed-burns",
   "metadata": {},
   "outputs": [
    {
     "data": {
      "image/png": "[encoded data removed]",
      "text/plain": [
       "<Figure size 1080x432 with 1 Axes>"
      ]
     },
     "metadata": {
      "needs_background": "light"
     },
     "output_type": "display_data"
    }
   ],
   "source": [
    "utils.plot_null_val_heatmap(usa_airports, \"USA Airports - Null Value\", (15,6))"
   ]
  },
  {
   "cell_type": "markdown",
   "id": "portable-overall",
   "metadata": {},
   "source": [
    "---\n",
    "## USA Cities Demographics\n",
    "\n",
    "#### Notes\n",
    "- Can I join the `cities` dataset to `airports` dataset by the `City` feature  to the `municipality` feature?\n",
    "- There are 3 missing states - Vermont, West Virginia, and Wyoming.\n",
    "- The dataset contains information about the demographics of all US cities and census-designated places with a population greater or equal to 65,000.\n",
    "- Should I scrape the census for additional data?\n"
   ]
  },
  {
   "cell_type": "code",
   "execution_count": 11,
   "id": "herbal-virgin",
   "metadata": {},
   "outputs": [
    {
     "data": {
      "text/html": [
       "<div>\n",
       "<style scoped>\n",
       "    .dataframe tbody tr th:only-of-type {\n",
       "        vertical-align: middle;\n",
       "    }\n",
       "\n",
       "    .dataframe tbody tr th {\n",
       "        vertical-align: top;\n",
       "    }\n",
       "\n",
       "    .dataframe thead th {\n",
       "        text-align: right;\n",
       "    }\n",
       "</style>\n",
       "<table border=\"1\" class=\"dataframe\">\n",
       "  <thead>\n",
       "    <tr style=\"text-align: right;\">\n",
       "      <th></th>\n",
       "      <th>City</th>\n",
       "      <th>State</th>\n",
       "      <th>Median Age</th>\n",
       "      <th>Male Population</th>\n",
       "      <th>Female Population</th>\n",
       "      <th>Total Population</th>\n",
       "      <th>Number of Veterans</th>\n",
       "      <th>Foreign-born</th>\n",
       "      <th>Average Household Size</th>\n",
       "      <th>State Code</th>\n",
       "      <th>Race</th>\n",
       "      <th>Count</th>\n",
       "    </tr>\n",
       "  </thead>\n",
       "  <tbody>\n",
       "    <tr>\n",
       "      <th>2886</th>\n",
       "      <td>Stockton</td>\n",
       "      <td>California</td>\n",
       "      <td>32.5</td>\n",
       "      <td>150976.0</td>\n",
       "      <td>154674.0</td>\n",
       "      <td>305650</td>\n",
       "      <td>12822.0</td>\n",
       "      <td>79583.0</td>\n",
       "      <td>3.16</td>\n",
       "      <td>CA</td>\n",
       "      <td>American Indian and Alaska Native</td>\n",
       "      <td>19834</td>\n",
       "    </tr>\n",
       "    <tr>\n",
       "      <th>2887</th>\n",
       "      <td>Southfield</td>\n",
       "      <td>Michigan</td>\n",
       "      <td>41.6</td>\n",
       "      <td>31369.0</td>\n",
       "      <td>41808.0</td>\n",
       "      <td>73177</td>\n",
       "      <td>4035.0</td>\n",
       "      <td>4011.0</td>\n",
       "      <td>2.27</td>\n",
       "      <td>MI</td>\n",
       "      <td>American Indian and Alaska Native</td>\n",
       "      <td>983</td>\n",
       "    </tr>\n",
       "    <tr>\n",
       "      <th>2888</th>\n",
       "      <td>Indianapolis</td>\n",
       "      <td>Indiana</td>\n",
       "      <td>34.1</td>\n",
       "      <td>410615.0</td>\n",
       "      <td>437808.0</td>\n",
       "      <td>848423</td>\n",
       "      <td>42186.0</td>\n",
       "      <td>72456.0</td>\n",
       "      <td>2.53</td>\n",
       "      <td>IN</td>\n",
       "      <td>White</td>\n",
       "      <td>553665</td>\n",
       "    </tr>\n",
       "    <tr>\n",
       "      <th>2889</th>\n",
       "      <td>Somerville</td>\n",
       "      <td>Massachusetts</td>\n",
       "      <td>31.0</td>\n",
       "      <td>41028.0</td>\n",
       "      <td>39306.0</td>\n",
       "      <td>80334</td>\n",
       "      <td>2103.0</td>\n",
       "      <td>22292.0</td>\n",
       "      <td>2.43</td>\n",
       "      <td>MA</td>\n",
       "      <td>American Indian and Alaska Native</td>\n",
       "      <td>374</td>\n",
       "    </tr>\n",
       "    <tr>\n",
       "      <th>2890</th>\n",
       "      <td>Coral Springs</td>\n",
       "      <td>Florida</td>\n",
       "      <td>37.2</td>\n",
       "      <td>63316.0</td>\n",
       "      <td>66186.0</td>\n",
       "      <td>129502</td>\n",
       "      <td>4724.0</td>\n",
       "      <td>38552.0</td>\n",
       "      <td>3.17</td>\n",
       "      <td>FL</td>\n",
       "      <td>White</td>\n",
       "      <td>90896</td>\n",
       "    </tr>\n",
       "  </tbody>\n",
       "</table>\n",
       "</div>"
      ],
      "text/plain": [
       "               City          State  Median Age  Male Population  \\\n",
       "2886       Stockton     California        32.5         150976.0   \n",
       "2887     Southfield       Michigan        41.6          31369.0   \n",
       "2888   Indianapolis        Indiana        34.1         410615.0   \n",
       "2889     Somerville  Massachusetts        31.0          41028.0   \n",
       "2890  Coral Springs        Florida        37.2          63316.0   \n",
       "\n",
       "      Female Population  Total Population  Number of Veterans  Foreign-born  \\\n",
       "2886           154674.0            305650             12822.0       79583.0   \n",
       "2887            41808.0             73177              4035.0        4011.0   \n",
       "2888           437808.0            848423             42186.0       72456.0   \n",
       "2889            39306.0             80334              2103.0       22292.0   \n",
       "2890            66186.0            129502              4724.0       38552.0   \n",
       "\n",
       "      Average Household Size State Code                               Race  \\\n",
       "2886                    3.16         CA  American Indian and Alaska Native   \n",
       "2887                    2.27         MI  American Indian and Alaska Native   \n",
       "2888                    2.53         IN                              White   \n",
       "2889                    2.43         MA  American Indian and Alaska Native   \n",
       "2890                    3.17         FL                              White   \n",
       "\n",
       "       Count  \n",
       "2886   19834  \n",
       "2887     983  \n",
       "2888  553665  \n",
       "2889     374  \n",
       "2890   90896  "
      ]
     },
     "execution_count": 11,
     "metadata": {},
     "output_type": "execute_result"
    }
   ],
   "source": [
    "cities = pd.read_csv('data/us_cities_demographics.csv', delimiter=';')\n",
    "cities.tail()"
   ]
  },
  {
   "cell_type": "code",
   "execution_count": 12,
   "id": "unknown-title",
   "metadata": {},
   "outputs": [
    {
     "data": {
      "text/html": [
       "<div>\n",
       "<style scoped>\n",
       "    .dataframe tbody tr th:only-of-type {\n",
       "        vertical-align: middle;\n",
       "    }\n",
       "\n",
       "    .dataframe tbody tr th {\n",
       "        vertical-align: top;\n",
       "    }\n",
       "\n",
       "    .dataframe thead th {\n",
       "        text-align: right;\n",
       "    }\n",
       "</style>\n",
       "<table border=\"1\" class=\"dataframe\">\n",
       "  <thead>\n",
       "    <tr style=\"text-align: right;\">\n",
       "      <th></th>\n",
       "      <th>city</th>\n",
       "      <th>state</th>\n",
       "      <th>median_age</th>\n",
       "      <th>male_pop</th>\n",
       "      <th>female_pop</th>\n",
       "      <th>total_pop</th>\n",
       "      <th>num_veterans</th>\n",
       "      <th>num_foreigners</th>\n",
       "      <th>avg_hh_size</th>\n",
       "      <th>state_code</th>\n",
       "      <th>race</th>\n",
       "      <th>count</th>\n",
       "    </tr>\n",
       "  </thead>\n",
       "  <tbody>\n",
       "    <tr>\n",
       "      <th>2886</th>\n",
       "      <td>Stockton</td>\n",
       "      <td>California</td>\n",
       "      <td>32.5</td>\n",
       "      <td>150976.0</td>\n",
       "      <td>154674.0</td>\n",
       "      <td>305650</td>\n",
       "      <td>12822.0</td>\n",
       "      <td>79583.0</td>\n",
       "      <td>3.16</td>\n",
       "      <td>CA</td>\n",
       "      <td>American Indian and Alaska Native</td>\n",
       "      <td>19834</td>\n",
       "    </tr>\n",
       "    <tr>\n",
       "      <th>2887</th>\n",
       "      <td>Southfield</td>\n",
       "      <td>Michigan</td>\n",
       "      <td>41.6</td>\n",
       "      <td>31369.0</td>\n",
       "      <td>41808.0</td>\n",
       "      <td>73177</td>\n",
       "      <td>4035.0</td>\n",
       "      <td>4011.0</td>\n",
       "      <td>2.27</td>\n",
       "      <td>MI</td>\n",
       "      <td>American Indian and Alaska Native</td>\n",
       "      <td>983</td>\n",
       "    </tr>\n",
       "    <tr>\n",
       "      <th>2888</th>\n",
       "      <td>Indianapolis</td>\n",
       "      <td>Indiana</td>\n",
       "      <td>34.1</td>\n",
       "      <td>410615.0</td>\n",
       "      <td>437808.0</td>\n",
       "      <td>848423</td>\n",
       "      <td>42186.0</td>\n",
       "      <td>72456.0</td>\n",
       "      <td>2.53</td>\n",
       "      <td>IN</td>\n",
       "      <td>White</td>\n",
       "      <td>553665</td>\n",
       "    </tr>\n",
       "    <tr>\n",
       "      <th>2889</th>\n",
       "      <td>Somerville</td>\n",
       "      <td>Massachusetts</td>\n",
       "      <td>31.0</td>\n",
       "      <td>41028.0</td>\n",
       "      <td>39306.0</td>\n",
       "      <td>80334</td>\n",
       "      <td>2103.0</td>\n",
       "      <td>22292.0</td>\n",
       "      <td>2.43</td>\n",
       "      <td>MA</td>\n",
       "      <td>American Indian and Alaska Native</td>\n",
       "      <td>374</td>\n",
       "    </tr>\n",
       "    <tr>\n",
       "      <th>2890</th>\n",
       "      <td>Coral Springs</td>\n",
       "      <td>Florida</td>\n",
       "      <td>37.2</td>\n",
       "      <td>63316.0</td>\n",
       "      <td>66186.0</td>\n",
       "      <td>129502</td>\n",
       "      <td>4724.0</td>\n",
       "      <td>38552.0</td>\n",
       "      <td>3.17</td>\n",
       "      <td>FL</td>\n",
       "      <td>White</td>\n",
       "      <td>90896</td>\n",
       "    </tr>\n",
       "  </tbody>\n",
       "</table>\n",
       "</div>"
      ],
      "text/plain": [
       "               city          state  median_age  male_pop  female_pop  \\\n",
       "2886       Stockton     California        32.5  150976.0    154674.0   \n",
       "2887     Southfield       Michigan        41.6   31369.0     41808.0   \n",
       "2888   Indianapolis        Indiana        34.1  410615.0    437808.0   \n",
       "2889     Somerville  Massachusetts        31.0   41028.0     39306.0   \n",
       "2890  Coral Springs        Florida        37.2   63316.0     66186.0   \n",
       "\n",
       "      total_pop  num_veterans  num_foreigners  avg_hh_size state_code  \\\n",
       "2886     305650       12822.0         79583.0         3.16         CA   \n",
       "2887      73177        4035.0          4011.0         2.27         MI   \n",
       "2888     848423       42186.0         72456.0         2.53         IN   \n",
       "2889      80334        2103.0         22292.0         2.43         MA   \n",
       "2890     129502        4724.0         38552.0         3.17         FL   \n",
       "\n",
       "                                   race   count  \n",
       "2886  American Indian and Alaska Native   19834  \n",
       "2887  American Indian and Alaska Native     983  \n",
       "2888                              White  553665  \n",
       "2889  American Indian and Alaska Native     374  \n",
       "2890                              White   90896  "
      ]
     },
     "execution_count": 12,
     "metadata": {},
     "output_type": "execute_result"
    }
   ],
   "source": [
    "cities.columns = [\"city\", \"state\", \"median_age\", \"male_pop\", \"female_pop\", \"total_pop\", \"num_veterans\", \"num_foreigners\",\n",
    "                  \"avg_hh_size\", \"state_code\", \"race\", \"count\"]\n",
    "cities.tail()"
   ]
  },
  {
   "cell_type": "code",
   "execution_count": 13,
   "id": "waiting-istanbul",
   "metadata": {},
   "outputs": [],
   "source": [
    "cities.sort_values([\"state\", \"city\", \"count\"], axis=0, inplace=True)"
   ]
  },
  {
   "cell_type": "code",
   "execution_count": 14,
   "id": "hairy-proceeding",
   "metadata": {},
   "outputs": [],
   "source": [
    "cities2 = cities.drop_duplicates(subset=[\"state\", \"city\"],\n",
    "                                keep='last')"
   ]
  },
  {
   "cell_type": "code",
   "execution_count": 15,
   "id": "liquid-lesson",
   "metadata": {},
   "outputs": [
    {
     "data": {
      "text/plain": [
       "False"
      ]
     },
     "execution_count": 15,
     "metadata": {},
     "output_type": "execute_result"
    }
   ],
   "source": [
    "sum(cities2['total_pop']) == sum(cities['count']) "
   ]
  },
  {
   "cell_type": "code",
   "execution_count": 16,
   "id": "transsexual-planner",
   "metadata": {},
   "outputs": [
    {
     "data": {
      "text/plain": [
       "116712213"
      ]
     },
     "execution_count": 16,
     "metadata": {},
     "output_type": "execute_result"
    }
   ],
   "source": [
    "sum(cities2['total_pop'])"
   ]
  },
  {
   "cell_type": "code",
   "execution_count": 17,
   "id": "drawn-executive",
   "metadata": {},
   "outputs": [
    {
     "data": {
      "text/plain": [
       "141554272"
      ]
     },
     "execution_count": 17,
     "metadata": {},
     "output_type": "execute_result"
    }
   ],
   "source": [
    "sum(cities['count']) "
   ]
  },
  {
   "cell_type": "markdown",
   "id": "built-kidney",
   "metadata": {},
   "source": [
    "---\n",
    "## Visits\n",
    "\n",
    "Need to convert countries to name"
   ]
  },
  {
   "cell_type": "code",
   "execution_count": 27,
   "id": "interested-distributor",
   "metadata": {},
   "outputs": [],
   "source": [
    "visits = pd.read_csv('data/immigration_data_sample.csv')\n",
    "\n",
    "visits.rename({'Unnamed: 0': 'visit_id'}, axis=1, inplace=True)"
   ]
  },
  {
   "cell_type": "code",
   "execution_count": 28,
   "id": "proper-tackle",
   "metadata": {},
   "outputs": [],
   "source": [
    "# visits.iloc[:, :30]"
   ]
  },
  {
   "cell_type": "code",
   "execution_count": 29,
   "id": "drawn-transmission",
   "metadata": {},
   "outputs": [
    {
     "name": "stdout",
     "output_type": "stream",
     "text": [
      "<class 'pandas.core.frame.DataFrame'>\n",
      "RangeIndex: 1000 entries, 0 to 999\n",
      "Data columns (total 29 columns):\n",
      " #   Column    Non-Null Count  Dtype  \n",
      "---  ------    --------------  -----  \n",
      " 0   visit_id  1000 non-null   int64  \n",
      " 1   cicid     1000 non-null   float64\n",
      " 2   i94yr     1000 non-null   float64\n",
      " 3   i94mon    1000 non-null   float64\n",
      " 4   i94cit    1000 non-null   float64\n",
      " 5   i94res    1000 non-null   float64\n",
      " 6   i94port   1000 non-null   object \n",
      " 7   arrdate   1000 non-null   float64\n",
      " 8   i94mode   1000 non-null   float64\n",
      " 9   i94addr   941 non-null    object \n",
      " 10  depdate   951 non-null    float64\n",
      " 11  i94bir    1000 non-null   float64\n",
      " 12  i94visa   1000 non-null   float64\n",
      " 13  count     1000 non-null   float64\n",
      " 14  dtadfile  1000 non-null   int64  \n",
      " 15  visapost  382 non-null    object \n",
      " 16  occup     4 non-null      object \n",
      " 17  entdepa   1000 non-null   object \n",
      " 18  entdepd   954 non-null    object \n",
      " 19  entdepu   0 non-null      float64\n",
      " 20  matflag   954 non-null    object \n",
      " 21  biryear   1000 non-null   float64\n",
      " 22  dtaddto   1000 non-null   object \n",
      " 23  gender    859 non-null    object \n",
      " 24  insnum    35 non-null     float64\n",
      " 25  airline   967 non-null    object \n",
      " 26  admnum    1000 non-null   float64\n",
      " 27  fltno     992 non-null    object \n",
      " 28  visatype  1000 non-null   object \n",
      "dtypes: float64(15), int64(2), object(12)\n",
      "memory usage: 226.7+ KB\n"
     ]
    }
   ],
   "source": [
    "visits.info()"
   ]
  },
  {
   "cell_type": "code",
   "execution_count": 30,
   "id": "administrative-replacement",
   "metadata": {},
   "outputs": [],
   "source": [
    "visits['arrdate'] = pd.to_timedelta(visits.arrdate, unit='D') + start_epoch\n",
    "visits['depdate'] = pd.to_timedelta(visits.depdate, unit='D') + start_epoch\n",
    "visits['biryear'] = visits.biryear.apply(int)"
   ]
  },
  {
   "cell_type": "code",
   "execution_count": 31,
   "id": "further-major",
   "metadata": {},
   "outputs": [],
   "source": [
    "#feats_to_drop =[\"insnum\", \"dtadfile\", \"fltno\", 'i94bir', \"occup\", \"admnum\", \"entdepu\", \"visapost\"]\n",
    "#visits.drop(feats_to_drop, axis=1, inplace=True)"
   ]
  },
  {
   "cell_type": "code",
   "execution_count": 32,
   "id": "relative-understanding",
   "metadata": {},
   "outputs": [
    {
     "data": {
      "text/html": [
       "<div>\n",
       "<style scoped>\n",
       "    .dataframe tbody tr th:only-of-type {\n",
       "        vertical-align: middle;\n",
       "    }\n",
       "\n",
       "    .dataframe tbody tr th {\n",
       "        vertical-align: top;\n",
       "    }\n",
       "\n",
       "    .dataframe thead th {\n",
       "        text-align: right;\n",
       "    }\n",
       "</style>\n",
       "<table border=\"1\" class=\"dataframe\">\n",
       "  <thead>\n",
       "    <tr style=\"text-align: right;\">\n",
       "      <th></th>\n",
       "      <th>visit_id</th>\n",
       "      <th>cicid</th>\n",
       "      <th>i94yr</th>\n",
       "      <th>i94mon</th>\n",
       "      <th>i94cit</th>\n",
       "      <th>i94res</th>\n",
       "      <th>i94port</th>\n",
       "      <th>arrdate</th>\n",
       "      <th>i94mode</th>\n",
       "      <th>i94addr</th>\n",
       "      <th>...</th>\n",
       "      <th>entdepu</th>\n",
       "      <th>matflag</th>\n",
       "      <th>biryear</th>\n",
       "      <th>dtaddto</th>\n",
       "      <th>gender</th>\n",
       "      <th>insnum</th>\n",
       "      <th>airline</th>\n",
       "      <th>admnum</th>\n",
       "      <th>fltno</th>\n",
       "      <th>visatype</th>\n",
       "    </tr>\n",
       "  </thead>\n",
       "  <tbody>\n",
       "    <tr>\n",
       "      <th>0</th>\n",
       "      <td>2027561</td>\n",
       "      <td>4084316.0</td>\n",
       "      <td>2016.0</td>\n",
       "      <td>4.0</td>\n",
       "      <td>209.0</td>\n",
       "      <td>209.0</td>\n",
       "      <td>HHW</td>\n",
       "      <td>2016-04-22</td>\n",
       "      <td>1.0</td>\n",
       "      <td>HI</td>\n",
       "      <td>...</td>\n",
       "      <td>NaN</td>\n",
       "      <td>M</td>\n",
       "      <td>1955</td>\n",
       "      <td>07202016</td>\n",
       "      <td>F</td>\n",
       "      <td>NaN</td>\n",
       "      <td>JL</td>\n",
       "      <td>5.658267e+10</td>\n",
       "      <td>00782</td>\n",
       "      <td>WT</td>\n",
       "    </tr>\n",
       "    <tr>\n",
       "      <th>1</th>\n",
       "      <td>2171295</td>\n",
       "      <td>4422636.0</td>\n",
       "      <td>2016.0</td>\n",
       "      <td>4.0</td>\n",
       "      <td>582.0</td>\n",
       "      <td>582.0</td>\n",
       "      <td>MCA</td>\n",
       "      <td>2016-04-23</td>\n",
       "      <td>1.0</td>\n",
       "      <td>TX</td>\n",
       "      <td>...</td>\n",
       "      <td>NaN</td>\n",
       "      <td>M</td>\n",
       "      <td>1990</td>\n",
       "      <td>10222016</td>\n",
       "      <td>M</td>\n",
       "      <td>NaN</td>\n",
       "      <td>*GA</td>\n",
       "      <td>9.436200e+10</td>\n",
       "      <td>XBLNG</td>\n",
       "      <td>B2</td>\n",
       "    </tr>\n",
       "    <tr>\n",
       "      <th>2</th>\n",
       "      <td>589494</td>\n",
       "      <td>1195600.0</td>\n",
       "      <td>2016.0</td>\n",
       "      <td>4.0</td>\n",
       "      <td>148.0</td>\n",
       "      <td>112.0</td>\n",
       "      <td>OGG</td>\n",
       "      <td>2016-04-07</td>\n",
       "      <td>1.0</td>\n",
       "      <td>FL</td>\n",
       "      <td>...</td>\n",
       "      <td>NaN</td>\n",
       "      <td>M</td>\n",
       "      <td>1940</td>\n",
       "      <td>07052016</td>\n",
       "      <td>M</td>\n",
       "      <td>NaN</td>\n",
       "      <td>LH</td>\n",
       "      <td>5.578047e+10</td>\n",
       "      <td>00464</td>\n",
       "      <td>WT</td>\n",
       "    </tr>\n",
       "    <tr>\n",
       "      <th>3</th>\n",
       "      <td>2631158</td>\n",
       "      <td>5291768.0</td>\n",
       "      <td>2016.0</td>\n",
       "      <td>4.0</td>\n",
       "      <td>297.0</td>\n",
       "      <td>297.0</td>\n",
       "      <td>LOS</td>\n",
       "      <td>2016-04-28</td>\n",
       "      <td>1.0</td>\n",
       "      <td>CA</td>\n",
       "      <td>...</td>\n",
       "      <td>NaN</td>\n",
       "      <td>M</td>\n",
       "      <td>1991</td>\n",
       "      <td>10272016</td>\n",
       "      <td>M</td>\n",
       "      <td>NaN</td>\n",
       "      <td>QR</td>\n",
       "      <td>9.478970e+10</td>\n",
       "      <td>00739</td>\n",
       "      <td>B2</td>\n",
       "    </tr>\n",
       "    <tr>\n",
       "      <th>4</th>\n",
       "      <td>3032257</td>\n",
       "      <td>985523.0</td>\n",
       "      <td>2016.0</td>\n",
       "      <td>4.0</td>\n",
       "      <td>111.0</td>\n",
       "      <td>111.0</td>\n",
       "      <td>CHM</td>\n",
       "      <td>2016-04-06</td>\n",
       "      <td>3.0</td>\n",
       "      <td>NY</td>\n",
       "      <td>...</td>\n",
       "      <td>NaN</td>\n",
       "      <td>M</td>\n",
       "      <td>1997</td>\n",
       "      <td>07042016</td>\n",
       "      <td>F</td>\n",
       "      <td>NaN</td>\n",
       "      <td>NaN</td>\n",
       "      <td>4.232257e+10</td>\n",
       "      <td>LAND</td>\n",
       "      <td>WT</td>\n",
       "    </tr>\n",
       "  </tbody>\n",
       "</table>\n",
       "<p>5 rows × 29 columns</p>\n",
       "</div>"
      ],
      "text/plain": [
       "   visit_id      cicid   i94yr  i94mon  i94cit  i94res i94port    arrdate  \\\n",
       "0   2027561  4084316.0  2016.0     4.0   209.0   209.0     HHW 2016-04-22   \n",
       "1   2171295  4422636.0  2016.0     4.0   582.0   582.0     MCA 2016-04-23   \n",
       "2    589494  1195600.0  2016.0     4.0   148.0   112.0     OGG 2016-04-07   \n",
       "3   2631158  5291768.0  2016.0     4.0   297.0   297.0     LOS 2016-04-28   \n",
       "4   3032257   985523.0  2016.0     4.0   111.0   111.0     CHM 2016-04-06   \n",
       "\n",
       "   i94mode i94addr  ... entdepu  matflag  biryear   dtaddto  gender insnum  \\\n",
       "0      1.0      HI  ...     NaN        M     1955  07202016       F    NaN   \n",
       "1      1.0      TX  ...     NaN        M     1990  10222016       M    NaN   \n",
       "2      1.0      FL  ...     NaN        M     1940  07052016       M    NaN   \n",
       "3      1.0      CA  ...     NaN        M     1991  10272016       M    NaN   \n",
       "4      3.0      NY  ...     NaN        M     1997  07042016       F    NaN   \n",
       "\n",
       "  airline        admnum  fltno  visatype  \n",
       "0      JL  5.658267e+10  00782        WT  \n",
       "1     *GA  9.436200e+10  XBLNG        B2  \n",
       "2      LH  5.578047e+10  00464        WT  \n",
       "3      QR  9.478970e+10  00739        B2  \n",
       "4     NaN  4.232257e+10   LAND        WT  \n",
       "\n",
       "[5 rows x 29 columns]"
      ]
     },
     "execution_count": 32,
     "metadata": {},
     "output_type": "execute_result"
    }
   ],
   "source": [
    "visits.head()"
   ]
  },
  {
   "cell_type": "code",
   "execution_count": 33,
   "id": "reduced-syria",
   "metadata": {},
   "outputs": [
    {
     "data": {
      "image/png": "[encoded data removed]",
      "text/plain": [
       "<Figure size 1440x576 with 1 Axes>"
      ]
     },
     "metadata": {
      "needs_background": "light"
     },
     "output_type": "display_data"
    }
   ],
   "source": [
    "utils.plot_null_val_heatmap(visits, \"Tourist Visits - Null Value\", (20,8))"
   ]
  },
  {
   "cell_type": "code",
   "execution_count": 37,
   "id": "organic-fluid",
   "metadata": {},
   "outputs": [
    {
     "data": {
      "text/html": [
       "<div>\n",
       "<style scoped>\n",
       "    .dataframe tbody tr th:only-of-type {\n",
       "        vertical-align: middle;\n",
       "    }\n",
       "\n",
       "    .dataframe tbody tr th {\n",
       "        vertical-align: top;\n",
       "    }\n",
       "\n",
       "    .dataframe thead th {\n",
       "        text-align: right;\n",
       "    }\n",
       "</style>\n",
       "<table border=\"1\" class=\"dataframe\">\n",
       "  <thead>\n",
       "    <tr style=\"text-align: right;\">\n",
       "      <th></th>\n",
       "      <th>visit_id</th>\n",
       "      <th>cicid</th>\n",
       "      <th>i94yr</th>\n",
       "      <th>i94mon</th>\n",
       "      <th>i94cit</th>\n",
       "      <th>i94res</th>\n",
       "      <th>i94port</th>\n",
       "      <th>arrdate</th>\n",
       "      <th>i94mode</th>\n",
       "      <th>i94addr</th>\n",
       "      <th>...</th>\n",
       "      <th>entdepu</th>\n",
       "      <th>matflag</th>\n",
       "      <th>biryear</th>\n",
       "      <th>dtaddto</th>\n",
       "      <th>gender</th>\n",
       "      <th>insnum</th>\n",
       "      <th>airline</th>\n",
       "      <th>admnum</th>\n",
       "      <th>fltno</th>\n",
       "      <th>visatype</th>\n",
       "    </tr>\n",
       "  </thead>\n",
       "  <tbody>\n",
       "    <tr>\n",
       "      <th>36</th>\n",
       "      <td>98732</td>\n",
       "      <td>216657.0</td>\n",
       "      <td>2016.0</td>\n",
       "      <td>4.0</td>\n",
       "      <td>696.0</td>\n",
       "      <td>696.0</td>\n",
       "      <td>FTL</td>\n",
       "      <td>2016-04-01</td>\n",
       "      <td>1.0</td>\n",
       "      <td>FL</td>\n",
       "      <td>...</td>\n",
       "      <td>NaN</td>\n",
       "      <td>NaN</td>\n",
       "      <td>1962</td>\n",
       "      <td>09302016</td>\n",
       "      <td>F</td>\n",
       "      <td>NaN</td>\n",
       "      <td>2D</td>\n",
       "      <td>9.251311e+10</td>\n",
       "      <td>00406</td>\n",
       "      <td>B2</td>\n",
       "    </tr>\n",
       "    <tr>\n",
       "      <th>79</th>\n",
       "      <td>2937355</td>\n",
       "      <td>5957654.0</td>\n",
       "      <td>2016.0</td>\n",
       "      <td>4.0</td>\n",
       "      <td>254.0</td>\n",
       "      <td>276.0</td>\n",
       "      <td>SAI</td>\n",
       "      <td>2016-04-12</td>\n",
       "      <td>1.0</td>\n",
       "      <td>GU</td>\n",
       "      <td>...</td>\n",
       "      <td>NaN</td>\n",
       "      <td>NaN</td>\n",
       "      <td>1996</td>\n",
       "      <td>05262016</td>\n",
       "      <td>M</td>\n",
       "      <td>3993.0</td>\n",
       "      <td>7C</td>\n",
       "      <td>4.511468e+10</td>\n",
       "      <td>03404</td>\n",
       "      <td>GMT</td>\n",
       "    </tr>\n",
       "    <tr>\n",
       "      <th>82</th>\n",
       "      <td>3052309</td>\n",
       "      <td>1435383.0</td>\n",
       "      <td>2016.0</td>\n",
       "      <td>4.0</td>\n",
       "      <td>574.0</td>\n",
       "      <td>206.0</td>\n",
       "      <td>BLA</td>\n",
       "      <td>2016-04-08</td>\n",
       "      <td>3.0</td>\n",
       "      <td>NE</td>\n",
       "      <td>...</td>\n",
       "      <td>NaN</td>\n",
       "      <td>NaN</td>\n",
       "      <td>1955</td>\n",
       "      <td>08082016</td>\n",
       "      <td>F</td>\n",
       "      <td>NaN</td>\n",
       "      <td>NaN</td>\n",
       "      <td>8.773307e+10</td>\n",
       "      <td>01788</td>\n",
       "      <td>B2</td>\n",
       "    </tr>\n",
       "    <tr>\n",
       "      <th>100</th>\n",
       "      <td>899737</td>\n",
       "      <td>1843262.0</td>\n",
       "      <td>2016.0</td>\n",
       "      <td>4.0</td>\n",
       "      <td>245.0</td>\n",
       "      <td>245.0</td>\n",
       "      <td>CHI</td>\n",
       "      <td>2016-04-10</td>\n",
       "      <td>1.0</td>\n",
       "      <td>IN</td>\n",
       "      <td>...</td>\n",
       "      <td>NaN</td>\n",
       "      <td>NaN</td>\n",
       "      <td>1956</td>\n",
       "      <td>10092016</td>\n",
       "      <td>F</td>\n",
       "      <td>NaN</td>\n",
       "      <td>AA</td>\n",
       "      <td>9.319157e+10</td>\n",
       "      <td>00186</td>\n",
       "      <td>B2</td>\n",
       "    </tr>\n",
       "    <tr>\n",
       "      <th>106</th>\n",
       "      <td>2068019</td>\n",
       "      <td>4231176.0</td>\n",
       "      <td>2016.0</td>\n",
       "      <td>4.0</td>\n",
       "      <td>586.0</td>\n",
       "      <td>586.0</td>\n",
       "      <td>NYC</td>\n",
       "      <td>2016-04-22</td>\n",
       "      <td>1.0</td>\n",
       "      <td>NJ</td>\n",
       "      <td>...</td>\n",
       "      <td>NaN</td>\n",
       "      <td>NaN</td>\n",
       "      <td>1948</td>\n",
       "      <td>10212016</td>\n",
       "      <td>NaN</td>\n",
       "      <td>NaN</td>\n",
       "      <td>AA</td>\n",
       "      <td>9.425292e+10</td>\n",
       "      <td>02179</td>\n",
       "      <td>B2</td>\n",
       "    </tr>\n",
       "  </tbody>\n",
       "</table>\n",
       "<p>5 rows × 29 columns</p>\n",
       "</div>"
      ],
      "text/plain": [
       "     visit_id      cicid   i94yr  i94mon  i94cit  i94res i94port    arrdate  \\\n",
       "36      98732   216657.0  2016.0     4.0   696.0   696.0     FTL 2016-04-01   \n",
       "79    2937355  5957654.0  2016.0     4.0   254.0   276.0     SAI 2016-04-12   \n",
       "82    3052309  1435383.0  2016.0     4.0   574.0   206.0     BLA 2016-04-08   \n",
       "100    899737  1843262.0  2016.0     4.0   245.0   245.0     CHI 2016-04-10   \n",
       "106   2068019  4231176.0  2016.0     4.0   586.0   586.0     NYC 2016-04-22   \n",
       "\n",
       "     i94mode i94addr  ... entdepu  matflag  biryear   dtaddto  gender  insnum  \\\n",
       "36       1.0      FL  ...     NaN      NaN     1962  09302016       F     NaN   \n",
       "79       1.0      GU  ...     NaN      NaN     1996  05262016       M  3993.0   \n",
       "82       3.0      NE  ...     NaN      NaN     1955  08082016       F     NaN   \n",
       "100      1.0      IN  ...     NaN      NaN     1956  10092016       F     NaN   \n",
       "106      1.0      NJ  ...     NaN      NaN     1948  10212016     NaN     NaN   \n",
       "\n",
       "    airline        admnum  fltno  visatype  \n",
       "36       2D  9.251311e+10  00406        B2  \n",
       "79       7C  4.511468e+10  03404       GMT  \n",
       "82      NaN  8.773307e+10  01788        B2  \n",
       "100      AA  9.319157e+10  00186        B2  \n",
       "106      AA  9.425292e+10  02179        B2  \n",
       "\n",
       "[5 rows x 29 columns]"
      ]
     },
     "execution_count": 37,
     "metadata": {},
     "output_type": "execute_result"
    }
   ],
   "source": [
    "visits[visits.matflag!=\"M\"].head()"
   ]
  },
  {
   "cell_type": "code",
   "execution_count": 47,
   "id": "atomic-trash",
   "metadata": {},
   "outputs": [
    {
     "data": {
      "text/plain": [
       "{'A',\n",
       " 'D',\n",
       " 'G',\n",
       " 'H',\n",
       " 'I',\n",
       " 'J',\n",
       " 'K',\n",
       " 'L',\n",
       " 'N',\n",
       " 'O',\n",
       " 'P',\n",
       " 'Q',\n",
       " 'R',\n",
       " 'T',\n",
       " 'U',\n",
       " 'W',\n",
       " 'Z',\n",
       " nan}"
      ]
     },
     "execution_count": 47,
     "metadata": {},
     "output_type": "execute_result"
    }
   ],
   "source": [
    "set1 = set(visits.entdepa.unique())\n",
    "set2 = set(visits.entdepd.unique())\n",
    "\n",
    "set1.union(set2)"
   ]
  },
  {
   "cell_type": "code",
   "execution_count": 45,
   "id": "honey-invalid",
   "metadata": {},
   "outputs": [
    {
     "data": {
      "text/plain": [
       "{'D', 'I', 'J', 'K', 'L', 'N', 'O', 'Q', 'R', 'W', nan}"
      ]
     },
     "execution_count": 45,
     "metadata": {},
     "output_type": "execute_result"
    }
   ],
   "source": [
    "set(visits.entdepd)"
   ]
  },
  {
   "cell_type": "code",
   "execution_count": 46,
   "id": "recovered-fever",
   "metadata": {},
   "outputs": [
    {
     "data": {
      "text/plain": [
       "{'A', 'G', 'H', 'K', 'O', 'P', 'T', 'U', 'Z'}"
      ]
     },
     "execution_count": 46,
     "metadata": {},
     "output_type": "execute_result"
    }
   ],
   "source": [
    "set(visits.entdepa)"
   ]
  },
  {
   "cell_type": "code",
   "execution_count": 25,
   "id": "coupled-madness",
   "metadata": {},
   "outputs": [
    {
     "name": "stdout",
     "output_type": "stream",
     "text": [
      "visit_id: 1000\n",
      "cicid: 1000\n",
      "i94yr: 1\n",
      "i94mon: 1\n",
      "i94cit: 88\n",
      "i94res: 91\n",
      "i94port: 70\n",
      "arrdate: 30\n",
      "i94mode: 4\n",
      "i94addr: 51\n",
      "depdate: 109\n",
      "i94visa: 3\n",
      "count: 1\n",
      "entdepa: 9\n",
      "entdepd: 10\n",
      "biryear: 85\n",
      "dtaddto: 99\n",
      "gender: 3\n",
      "airline: 101\n",
      "visatype: 10\n"
     ]
    }
   ],
   "source": [
    "for col in visits.columns:\n",
    "    print(f\"{col}: {visits[col].nunique()}\")"
   ]
  },
  {
   "cell_type": "code",
   "execution_count": 26,
   "id": "super-crystal",
   "metadata": {},
   "outputs": [
    {
     "ename": "AttributeError",
     "evalue": "'DataFrame' object has no attribute 'matflag'",
     "output_type": "error",
     "traceback": [
      "\u001b[0;31m---------------------------------------------------------------------------\u001b[0m",
      "\u001b[0;31mAttributeError\u001b[0m                            Traceback (most recent call last)",
      "\u001b[0;32m<ipython-input-26-716af69e6332>\u001b[0m in \u001b[0;36m<module>\u001b[0;34m\u001b[0m\n\u001b[0;32m----> 1\u001b[0;31m \u001b[0mvisits\u001b[0m\u001b[0;34m.\u001b[0m\u001b[0mmatflag\u001b[0m\u001b[0;34m.\u001b[0m\u001b[0munique\u001b[0m\u001b[0;34m(\u001b[0m\u001b[0;34m)\u001b[0m\u001b[0;34m\u001b[0m\u001b[0;34m\u001b[0m\u001b[0m\n\u001b[0m",
      "\u001b[0;32m~/opt/anaconda3/envs/udac_cap/lib/python3.9/site-packages/pandas/core/generic.py\u001b[0m in \u001b[0;36m__getattr__\u001b[0;34m(self, name)\u001b[0m\n\u001b[1;32m   5463\u001b[0m             \u001b[0;32mif\u001b[0m \u001b[0mself\u001b[0m\u001b[0;34m.\u001b[0m\u001b[0m_info_axis\u001b[0m\u001b[0;34m.\u001b[0m\u001b[0m_can_hold_identifiers_and_holds_name\u001b[0m\u001b[0;34m(\u001b[0m\u001b[0mname\u001b[0m\u001b[0;34m)\u001b[0m\u001b[0;34m:\u001b[0m\u001b[0;34m\u001b[0m\u001b[0;34m\u001b[0m\u001b[0m\n\u001b[1;32m   5464\u001b[0m                 \u001b[0;32mreturn\u001b[0m \u001b[0mself\u001b[0m\u001b[0;34m[\u001b[0m\u001b[0mname\u001b[0m\u001b[0;34m]\u001b[0m\u001b[0;34m\u001b[0m\u001b[0;34m\u001b[0m\u001b[0m\n\u001b[0;32m-> 5465\u001b[0;31m             \u001b[0;32mreturn\u001b[0m \u001b[0mobject\u001b[0m\u001b[0;34m.\u001b[0m\u001b[0m__getattribute__\u001b[0m\u001b[0;34m(\u001b[0m\u001b[0mself\u001b[0m\u001b[0;34m,\u001b[0m \u001b[0mname\u001b[0m\u001b[0;34m)\u001b[0m\u001b[0;34m\u001b[0m\u001b[0;34m\u001b[0m\u001b[0m\n\u001b[0m\u001b[1;32m   5466\u001b[0m \u001b[0;34m\u001b[0m\u001b[0m\n\u001b[1;32m   5467\u001b[0m     \u001b[0;32mdef\u001b[0m \u001b[0m__setattr__\u001b[0m\u001b[0;34m(\u001b[0m\u001b[0mself\u001b[0m\u001b[0;34m,\u001b[0m \u001b[0mname\u001b[0m\u001b[0;34m:\u001b[0m \u001b[0mstr\u001b[0m\u001b[0;34m,\u001b[0m \u001b[0mvalue\u001b[0m\u001b[0;34m)\u001b[0m \u001b[0;34m->\u001b[0m \u001b[0;32mNone\u001b[0m\u001b[0;34m:\u001b[0m\u001b[0;34m\u001b[0m\u001b[0;34m\u001b[0m\u001b[0m\n",
      "\u001b[0;31mAttributeError\u001b[0m: 'DataFrame' object has no attribute 'matflag'"
     ]
    }
   ],
   "source": [
    "visits.matflag.unique()"
   ]
  },
  {
   "cell_type": "markdown",
   "id": "other-cleveland",
   "metadata": {},
   "source": [
    "---\n",
    "## Global Temperatures"
   ]
  },
  {
   "cell_type": "code",
   "execution_count": null,
   "id": "vital-binding",
   "metadata": {},
   "outputs": [],
   "source": [
    "weather = pd.read_csv('data/GlobalLandTemperaturesByCity.csv')\n",
    "weather = weather[weather.Country == 'United States'].copy()\n",
    "weather.tail()"
   ]
  },
  {
   "cell_type": "code",
   "execution_count": null,
   "id": "descending-bridal",
   "metadata": {},
   "outputs": [],
   "source": [
    "num_unique_usa_cities = len(weather.City.unique())\n",
    "print(f\"# of unique US Cities: {num_unique_usa_cities}\")"
   ]
  },
  {
   "cell_type": "code",
   "execution_count": null,
   "id": "superior-budget",
   "metadata": {},
   "outputs": [],
   "source": [
    "print(\"Earliest date: \", weather.dt.min())\n",
    "print(\"Latest date: \", weather.dt.max())"
   ]
  },
  {
   "cell_type": "code",
   "execution_count": null,
   "id": "alternative-scientist",
   "metadata": {},
   "outputs": [],
   "source": [
    "weather = pd.read_csv('temperatures_by_city.csv')\n",
    "weather = weather[weather.Country == 'United States'].copy()\n",
    "\n",
    "print(\"Earliest date: \", weather.dt.min())\n",
    "print(\"Latest date: \", weather.dt.max())"
   ]
  },
  {
   "cell_type": "markdown",
   "id": "manual-northwest",
   "metadata": {},
   "source": [
    "---\n",
    "## Aggregation"
   ]
  },
  {
   "cell_type": "code",
   "execution_count": null,
   "id": "frequent-patrol",
   "metadata": {},
   "outputs": [],
   "source": [
    "labels = pd.read_sas('data/I94_SAS_Labels_Descriptions.sas', 'sas7bdat', encoding=\"ISO-8859-1\")"
   ]
  },
  {
   "cell_type": "code",
   "execution_count": null,
   "id": "printable-albany",
   "metadata": {},
   "outputs": [],
   "source": [
    "# Number of cities that exist in BOTH \"cities\" and \"usa_med_large\" dfs.\n",
    "# \"cities\" has a total of 2,891 cities.\n",
    "len(set(cities.City).intersection(set(usa_med_large.municipality)))"
   ]
  },
  {
   "cell_type": "code",
   "execution_count": null,
   "id": "dressed-recycling",
   "metadata": {},
   "outputs": [],
   "source": []
  }
 ],
 "metadata": {
  "kernelspec": {
   "display_name": "Python 3",
   "language": "python",
   "name": "python3"
  },
  "language_info": {
   "codemirror_mode": {
    "name": "ipython",
    "version": 3
   },
   "file_extension": ".py",
   "mimetype": "text/x-python",
   "name": "python",
   "nbconvert_exporter": "python",
   "pygments_lexer": "ipython3",
   "version": "3.9.2"
  }
 },
 "nbformat": 4,
 "nbformat_minor": 5
}
