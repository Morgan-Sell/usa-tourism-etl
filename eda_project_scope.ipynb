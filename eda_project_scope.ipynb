{
 "cells": [
  {
   "cell_type": "markdown",
   "metadata": {},
   "source": [
    "# Exploratory Data Analsis and Project Scope"
   ]
  },
  {
   "cell_type": "code",
   "execution_count": 2,
   "metadata": {},
   "outputs": [],
   "source": [
    "import pandas as pd\n",
    "import numpy as np\n",
    "\n",
    "import matplotlib.pyplot as plt\n",
    "import seaborn as sns\n",
    "%matplotlib inline\n",
    "\n",
    "import utils\n",
    "\n",
    "from datetime import datetime"
   ]
  },
  {
   "cell_type": "markdown",
   "metadata": {},
   "source": [
    "### General Reference"
   ]
  },
  {
   "cell_type": "code",
   "execution_count": 3,
   "metadata": {},
   "outputs": [],
   "source": [
    "airports = pd.read_csv('data/airport_codes.csv')\n",
    "\n",
    "cities = pd.read_csv('data/us_cities_demographics.csv', delimiter=';')\n",
    "weather = pd.read_csv('data/GlobalLandTemperaturesByCity.csv')"
   ]
  },
  {
   "cell_type": "code",
   "execution_count": 4,
   "metadata": {},
   "outputs": [],
   "source": [
    "start_epoch = pd.Timestamp('1960-1-1')"
   ]
  },
  {
   "cell_type": "code",
   "execution_count": 1,
   "metadata": {},
   "outputs": [],
   "source": [
    "with open('./data/I94_SAS_Labels_Descriptions.sas') as f:\n",
    "    f_content = f.read()\n",
    "    f_content = f_content.replace(\"\\t\", \"\")"
   ]
  },
  {
   "cell_type": "code",
   "execution_count": 8,
   "metadata": {},
   "outputs": [
    {
     "data": {
      "text/plain": [
       "str"
      ]
     },
     "execution_count": 8,
     "metadata": {},
     "output_type": "execute_result"
    }
   ],
   "source": [
    "type(f_content)"
   ]
  },
  {
   "cell_type": "code",
   "execution_count": 5,
   "metadata": {},
   "outputs": [],
   "source": [
    "def code_mapper(file, label):\n",
    "    \"\"\" Creates map b/t codes and descriptions/names.\n",
    "    \n",
    "    file: document that contains content\n",
    "    label: The attribute that will be mapped.\n",
    "    \n",
    "    \"\"\"\n",
    "    file2 = file([filelabel)])\n",
    "    file2 = file2[:file2.index(\";\")].sploit(\"\\n\")\n",
    "    file2 = [item.replace(\"\", \"\") for item in file2]\n",
    "    content = [item.split(\"=\") for item in file2[1:]]\n",
    "    map_dict = {item[0].strip(): item[1].strip() for item in content if len(item) == 2}\n",
    "    return map_dict"
   ]
  },
  {
   "cell_type": "code",
   "execution_count": 6,
   "metadata": {},
   "outputs": [
    {
     "ename": "TypeError",
     "evalue": "'str' object is not callable",
     "output_type": "error",
     "traceback": [
      "\u001b[0;31m---------------------------------------------------------------------------\u001b[0m",
      "\u001b[0;31mTypeError\u001b[0m                                 Traceback (most recent call last)",
      "\u001b[0;32m<ipython-input-6-4b09499f7c5a>\u001b[0m in \u001b[0;36m<module>\u001b[0;34m\u001b[0m\n\u001b[0;32m----> 1\u001b[0;31m \u001b[0mi94cit_res\u001b[0m \u001b[0;34m=\u001b[0m \u001b[0mcode_mapper\u001b[0m\u001b[0;34m(\u001b[0m\u001b[0mf_content\u001b[0m\u001b[0;34m,\u001b[0m \u001b[0;34m\"i94cntyl\"\u001b[0m\u001b[0;34m)\u001b[0m\u001b[0;34m\u001b[0m\u001b[0;34m\u001b[0m\u001b[0m\n\u001b[0m",
      "\u001b[0;32m<ipython-input-5-81052fa9286d>\u001b[0m in \u001b[0;36mcode_mapper\u001b[0;34m(file, label)\u001b[0m\n\u001b[1;32m      6\u001b[0m \u001b[0;34m\u001b[0m\u001b[0m\n\u001b[1;32m      7\u001b[0m     \"\"\"\n\u001b[0;32m----> 8\u001b[0;31m     \u001b[0mfile2\u001b[0m \u001b[0;34m=\u001b[0m \u001b[0mfile\u001b[0m\u001b[0;34m(\u001b[0m\u001b[0;34m[\u001b[0m\u001b[0mfile\u001b[0m\u001b[0;34m.\u001b[0m\u001b[0mindex\u001b[0m\u001b[0;34m(\u001b[0m\u001b[0mlabel\u001b[0m\u001b[0;34m)\u001b[0m\u001b[0;34m]\u001b[0m\u001b[0;34m)\u001b[0m\u001b[0;34m\u001b[0m\u001b[0;34m\u001b[0m\u001b[0m\n\u001b[0m\u001b[1;32m      9\u001b[0m     \u001b[0mfile2\u001b[0m \u001b[0;34m=\u001b[0m \u001b[0mfile2\u001b[0m\u001b[0;34m[\u001b[0m\u001b[0;34m:\u001b[0m\u001b[0mfile2\u001b[0m\u001b[0;34m.\u001b[0m\u001b[0mindex\u001b[0m\u001b[0;34m(\u001b[0m\u001b[0;34m\";\"\u001b[0m\u001b[0;34m)\u001b[0m\u001b[0;34m]\u001b[0m\u001b[0;34m.\u001b[0m\u001b[0msploit\u001b[0m\u001b[0;34m(\u001b[0m\u001b[0;34m\"\\n\"\u001b[0m\u001b[0;34m)\u001b[0m\u001b[0;34m\u001b[0m\u001b[0;34m\u001b[0m\u001b[0m\n\u001b[1;32m     10\u001b[0m     \u001b[0mfile2\u001b[0m \u001b[0;34m=\u001b[0m \u001b[0;34m[\u001b[0m\u001b[0mitem\u001b[0m\u001b[0;34m.\u001b[0m\u001b[0mreplace\u001b[0m\u001b[0;34m(\u001b[0m\u001b[0;34m\"\"\u001b[0m\u001b[0;34m,\u001b[0m \u001b[0;34m\"\"\u001b[0m\u001b[0;34m)\u001b[0m \u001b[0;32mfor\u001b[0m \u001b[0mitem\u001b[0m \u001b[0;32min\u001b[0m \u001b[0mfile2\u001b[0m\u001b[0;34m]\u001b[0m\u001b[0;34m\u001b[0m\u001b[0;34m\u001b[0m\u001b[0m\n",
      "\u001b[0;31mTypeError\u001b[0m: 'str' object is not callable"
     ]
    }
   ],
   "source": [
    "i94cit_res = code_mapper(f_content, \"i94cntyl\")"
   ]
  },
  {
   "cell_type": "markdown",
   "metadata": {},
   "source": [
    "---\n",
    "## Airports\n",
    "\n",
    "#### Notes\n",
    "- Use iata_code as unique identifies. IATA = International Airport Transport Association\n",
    "\n",
    "\n",
    "#### Extract Conditions\n",
    "- iso_country = \"US\"\n",
    "- type = \"large_airport\" or \"medium_airport\"\n",
    "\n",
    "\n",
    "#### Errors\n",
    "- Duplicate values\n",
    "- Missing values - Do not accep"
   ]
  },
  {
   "cell_type": "code",
   "execution_count": 4,
   "metadata": {},
   "outputs": [
    {
     "data": {
      "text/plain": [
       "array(['heliport', 'small_airport', 'closed', 'seaplane_base',\n",
       "       'balloonport', 'medium_airport', 'large_airport'], dtype=object)"
      ]
     },
     "execution_count": 4,
     "metadata": {},
     "output_type": "execute_result"
    }
   ],
   "source": [
    "airports.type.unique()"
   ]
  },
  {
   "cell_type": "code",
   "execution_count": 5,
   "metadata": {},
   "outputs": [
    {
     "data": {
      "text/html": [
       "<div>\n",
       "<style scoped>\n",
       "    .dataframe tbody tr th:only-of-type {\n",
       "        vertical-align: middle;\n",
       "    }\n",
       "\n",
       "    .dataframe tbody tr th {\n",
       "        vertical-align: top;\n",
       "    }\n",
       "\n",
       "    .dataframe thead th {\n",
       "        text-align: right;\n",
       "    }\n",
       "</style>\n",
       "<table border=\"1\" class=\"dataframe\">\n",
       "  <thead>\n",
       "    <tr style=\"text-align: right;\">\n",
       "      <th></th>\n",
       "      <th>ident</th>\n",
       "      <th>type</th>\n",
       "      <th>name</th>\n",
       "      <th>elevation_ft</th>\n",
       "      <th>continent</th>\n",
       "      <th>iso_country</th>\n",
       "      <th>iso_region</th>\n",
       "      <th>municipality</th>\n",
       "      <th>gps_code</th>\n",
       "      <th>iata_code</th>\n",
       "      <th>local_code</th>\n",
       "      <th>coordinates</th>\n",
       "    </tr>\n",
       "  </thead>\n",
       "  <tbody>\n",
       "    <tr>\n",
       "      <th>6188</th>\n",
       "      <td>5A8</td>\n",
       "      <td>medium_airport</td>\n",
       "      <td>Aleknagik / New Airport</td>\n",
       "      <td>66.0</td>\n",
       "      <td>NaN</td>\n",
       "      <td>US</td>\n",
       "      <td>US-AK</td>\n",
       "      <td>Aleknagik</td>\n",
       "      <td>5A8</td>\n",
       "      <td>WKK</td>\n",
       "      <td>5A8</td>\n",
       "      <td>-158.617996216, 59.2826004028</td>\n",
       "    </tr>\n",
       "    <tr>\n",
       "      <th>25825</th>\n",
       "      <td>K79J</td>\n",
       "      <td>medium_airport</td>\n",
       "      <td>South Alabama Regional At Bill Benton Field Ai...</td>\n",
       "      <td>310.0</td>\n",
       "      <td>NaN</td>\n",
       "      <td>US</td>\n",
       "      <td>US-AL</td>\n",
       "      <td>Andalusia/Opp</td>\n",
       "      <td>K79J</td>\n",
       "      <td>NaN</td>\n",
       "      <td>79J</td>\n",
       "      <td>-86.393799, 31.3088</td>\n",
       "    </tr>\n",
       "    <tr>\n",
       "      <th>26005</th>\n",
       "      <td>KABE</td>\n",
       "      <td>medium_airport</td>\n",
       "      <td>Lehigh Valley International Airport</td>\n",
       "      <td>393.0</td>\n",
       "      <td>NaN</td>\n",
       "      <td>US</td>\n",
       "      <td>US-PA</td>\n",
       "      <td>Allentown</td>\n",
       "      <td>KABE</td>\n",
       "      <td>ABE</td>\n",
       "      <td>ABE</td>\n",
       "      <td>-75.44080352783203, 40.652099609375</td>\n",
       "    </tr>\n",
       "    <tr>\n",
       "      <th>26006</th>\n",
       "      <td>KABI</td>\n",
       "      <td>medium_airport</td>\n",
       "      <td>Abilene Regional Airport</td>\n",
       "      <td>1791.0</td>\n",
       "      <td>NaN</td>\n",
       "      <td>US</td>\n",
       "      <td>US-TX</td>\n",
       "      <td>Abilene</td>\n",
       "      <td>KABI</td>\n",
       "      <td>ABI</td>\n",
       "      <td>ABI</td>\n",
       "      <td>-99.68190002440001, 32.4113006592</td>\n",
       "    </tr>\n",
       "    <tr>\n",
       "      <th>26007</th>\n",
       "      <td>KABQ</td>\n",
       "      <td>large_airport</td>\n",
       "      <td>Albuquerque International Sunport</td>\n",
       "      <td>5355.0</td>\n",
       "      <td>NaN</td>\n",
       "      <td>US</td>\n",
       "      <td>US-NM</td>\n",
       "      <td>Albuquerque</td>\n",
       "      <td>KABQ</td>\n",
       "      <td>ABQ</td>\n",
       "      <td>ABQ</td>\n",
       "      <td>-106.609001, 35.040199</td>\n",
       "    </tr>\n",
       "  </tbody>\n",
       "</table>\n",
       "</div>"
      ],
      "text/plain": [
       "      ident            type  \\\n",
       "6188    5A8  medium_airport   \n",
       "25825  K79J  medium_airport   \n",
       "26005  KABE  medium_airport   \n",
       "26006  KABI  medium_airport   \n",
       "26007  KABQ   large_airport   \n",
       "\n",
       "                                                    name  elevation_ft  \\\n",
       "6188                             Aleknagik / New Airport          66.0   \n",
       "25825  South Alabama Regional At Bill Benton Field Ai...         310.0   \n",
       "26005                Lehigh Valley International Airport         393.0   \n",
       "26006                           Abilene Regional Airport        1791.0   \n",
       "26007                  Albuquerque International Sunport        5355.0   \n",
       "\n",
       "      continent iso_country iso_region   municipality gps_code iata_code  \\\n",
       "6188        NaN          US      US-AK      Aleknagik      5A8       WKK   \n",
       "25825       NaN          US      US-AL  Andalusia/Opp     K79J       NaN   \n",
       "26005       NaN          US      US-PA      Allentown     KABE       ABE   \n",
       "26006       NaN          US      US-TX        Abilene     KABI       ABI   \n",
       "26007       NaN          US      US-NM    Albuquerque     KABQ       ABQ   \n",
       "\n",
       "      local_code                          coordinates  \n",
       "6188         5A8        -158.617996216, 59.2826004028  \n",
       "25825        79J                  -86.393799, 31.3088  \n",
       "26005        ABE  -75.44080352783203, 40.652099609375  \n",
       "26006        ABI    -99.68190002440001, 32.4113006592  \n",
       "26007        ABQ               -106.609001, 35.040199  "
      ]
     },
     "execution_count": 5,
     "metadata": {},
     "output_type": "execute_result"
    }
   ],
   "source": [
    "usa_med_large = airports[((airports.type == 'medium_airport') |\n",
    "                          (airports.type == 'large_airport')) &\n",
    "                         (airports.iso_country == 'US')].copy()\n",
    "usa_med_large.head()"
   ]
  },
  {
   "cell_type": "code",
   "execution_count": 6,
   "metadata": {},
   "outputs": [
    {
     "data": {
      "image/png": "[encoded data removed]",
      "text/plain": [
       "<Figure size 1440x576 with 1 Axes>"
      ]
     },
     "metadata": {
      "needs_background": "light"
     },
     "output_type": "display_data"
    }
   ],
   "source": [
    "utils.plot_null_val_heatmap(usa_med_large, \"USA Airports - Null Value\", (20,8))"
   ]
  },
  {
   "cell_type": "markdown",
   "metadata": {},
   "source": [
    "---\n",
    "## USA Cities Demographics\n",
    "\n",
    "#### Notes\n",
    "- Can I join the `cities` dataset to `airports` dataset by the `City` feature  to the `municipality` feature?"
   ]
  },
  {
   "cell_type": "code",
   "execution_count": 7,
   "metadata": {},
   "outputs": [
    {
     "data": {
      "text/html": [
       "<div>\n",
       "<style scoped>\n",
       "    .dataframe tbody tr th:only-of-type {\n",
       "        vertical-align: middle;\n",
       "    }\n",
       "\n",
       "    .dataframe tbody tr th {\n",
       "        vertical-align: top;\n",
       "    }\n",
       "\n",
       "    .dataframe thead th {\n",
       "        text-align: right;\n",
       "    }\n",
       "</style>\n",
       "<table border=\"1\" class=\"dataframe\">\n",
       "  <thead>\n",
       "    <tr style=\"text-align: right;\">\n",
       "      <th></th>\n",
       "      <th>City</th>\n",
       "      <th>State</th>\n",
       "      <th>Median Age</th>\n",
       "      <th>Male Population</th>\n",
       "      <th>Female Population</th>\n",
       "      <th>Total Population</th>\n",
       "      <th>Number of Veterans</th>\n",
       "      <th>Foreign-born</th>\n",
       "      <th>Average Household Size</th>\n",
       "      <th>State Code</th>\n",
       "      <th>Race</th>\n",
       "      <th>Count</th>\n",
       "    </tr>\n",
       "  </thead>\n",
       "  <tbody>\n",
       "    <tr>\n",
       "      <th>2886</th>\n",
       "      <td>Stockton</td>\n",
       "      <td>California</td>\n",
       "      <td>32.5</td>\n",
       "      <td>150976.0</td>\n",
       "      <td>154674.0</td>\n",
       "      <td>305650</td>\n",
       "      <td>12822.0</td>\n",
       "      <td>79583.0</td>\n",
       "      <td>3.16</td>\n",
       "      <td>CA</td>\n",
       "      <td>American Indian and Alaska Native</td>\n",
       "      <td>19834</td>\n",
       "    </tr>\n",
       "    <tr>\n",
       "      <th>2887</th>\n",
       "      <td>Southfield</td>\n",
       "      <td>Michigan</td>\n",
       "      <td>41.6</td>\n",
       "      <td>31369.0</td>\n",
       "      <td>41808.0</td>\n",
       "      <td>73177</td>\n",
       "      <td>4035.0</td>\n",
       "      <td>4011.0</td>\n",
       "      <td>2.27</td>\n",
       "      <td>MI</td>\n",
       "      <td>American Indian and Alaska Native</td>\n",
       "      <td>983</td>\n",
       "    </tr>\n",
       "    <tr>\n",
       "      <th>2888</th>\n",
       "      <td>Indianapolis</td>\n",
       "      <td>Indiana</td>\n",
       "      <td>34.1</td>\n",
       "      <td>410615.0</td>\n",
       "      <td>437808.0</td>\n",
       "      <td>848423</td>\n",
       "      <td>42186.0</td>\n",
       "      <td>72456.0</td>\n",
       "      <td>2.53</td>\n",
       "      <td>IN</td>\n",
       "      <td>White</td>\n",
       "      <td>553665</td>\n",
       "    </tr>\n",
       "    <tr>\n",
       "      <th>2889</th>\n",
       "      <td>Somerville</td>\n",
       "      <td>Massachusetts</td>\n",
       "      <td>31.0</td>\n",
       "      <td>41028.0</td>\n",
       "      <td>39306.0</td>\n",
       "      <td>80334</td>\n",
       "      <td>2103.0</td>\n",
       "      <td>22292.0</td>\n",
       "      <td>2.43</td>\n",
       "      <td>MA</td>\n",
       "      <td>American Indian and Alaska Native</td>\n",
       "      <td>374</td>\n",
       "    </tr>\n",
       "    <tr>\n",
       "      <th>2890</th>\n",
       "      <td>Coral Springs</td>\n",
       "      <td>Florida</td>\n",
       "      <td>37.2</td>\n",
       "      <td>63316.0</td>\n",
       "      <td>66186.0</td>\n",
       "      <td>129502</td>\n",
       "      <td>4724.0</td>\n",
       "      <td>38552.0</td>\n",
       "      <td>3.17</td>\n",
       "      <td>FL</td>\n",
       "      <td>White</td>\n",
       "      <td>90896</td>\n",
       "    </tr>\n",
       "  </tbody>\n",
       "</table>\n",
       "</div>"
      ],
      "text/plain": [
       "               City          State  Median Age  Male Population  \\\n",
       "2886       Stockton     California        32.5         150976.0   \n",
       "2887     Southfield       Michigan        41.6          31369.0   \n",
       "2888   Indianapolis        Indiana        34.1         410615.0   \n",
       "2889     Somerville  Massachusetts        31.0          41028.0   \n",
       "2890  Coral Springs        Florida        37.2          63316.0   \n",
       "\n",
       "      Female Population  Total Population  Number of Veterans  Foreign-born  \\\n",
       "2886           154674.0            305650             12822.0       79583.0   \n",
       "2887            41808.0             73177              4035.0        4011.0   \n",
       "2888           437808.0            848423             42186.0       72456.0   \n",
       "2889            39306.0             80334              2103.0       22292.0   \n",
       "2890            66186.0            129502              4724.0       38552.0   \n",
       "\n",
       "      Average Household Size State Code                               Race  \\\n",
       "2886                    3.16         CA  American Indian and Alaska Native   \n",
       "2887                    2.27         MI  American Indian and Alaska Native   \n",
       "2888                    2.53         IN                              White   \n",
       "2889                    2.43         MA  American Indian and Alaska Native   \n",
       "2890                    3.17         FL                              White   \n",
       "\n",
       "       Count  \n",
       "2886   19834  \n",
       "2887     983  \n",
       "2888  553665  \n",
       "2889     374  \n",
       "2890   90896  "
      ]
     },
     "execution_count": 7,
     "metadata": {},
     "output_type": "execute_result"
    }
   ],
   "source": [
    "cities.tail()"
   ]
  },
  {
   "cell_type": "code",
   "execution_count": 8,
   "metadata": {},
   "outputs": [
    {
     "name": "stdout",
     "output_type": "stream",
     "text": [
      "<class 'pandas.core.frame.DataFrame'>\n",
      "RangeIndex: 2891 entries, 0 to 2890\n",
      "Data columns (total 12 columns):\n",
      " #   Column                  Non-Null Count  Dtype  \n",
      "---  ------                  --------------  -----  \n",
      " 0   City                    2891 non-null   object \n",
      " 1   State                   2891 non-null   object \n",
      " 2   Median Age              2891 non-null   float64\n",
      " 3   Male Population         2888 non-null   float64\n",
      " 4   Female Population       2888 non-null   float64\n",
      " 5   Total Population        2891 non-null   int64  \n",
      " 6   Number of Veterans      2878 non-null   float64\n",
      " 7   Foreign-born            2878 non-null   float64\n",
      " 8   Average Household Size  2875 non-null   float64\n",
      " 9   State Code              2891 non-null   object \n",
      " 10  Race                    2891 non-null   object \n",
      " 11  Count                   2891 non-null   int64  \n",
      "dtypes: float64(6), int64(2), object(4)\n",
      "memory usage: 271.2+ KB\n"
     ]
    }
   ],
   "source": [
    "cities.info()"
   ]
  },
  {
   "cell_type": "code",
   "execution_count": null,
   "metadata": {},
   "outputs": [],
   "source": []
  },
  {
   "cell_type": "code",
   "execution_count": null,
   "metadata": {},
   "outputs": [],
   "source": []
  },
  {
   "cell_type": "code",
   "execution_count": null,
   "metadata": {},
   "outputs": [],
   "source": []
  },
  {
   "cell_type": "markdown",
   "metadata": {},
   "source": [
    "---\n",
    "## Visits\n",
    "\n",
    "Need to convert countries to name"
   ]
  },
  {
   "cell_type": "code",
   "execution_count": 10,
   "metadata": {},
   "outputs": [],
   "source": [
    "visits = pd.read_csv('data/immigration_data_sample.csv')\n",
    "\n",
    "visits.rename({'Unnamed: 0': 'visit_id'}, axis=1, inplace=True)"
   ]
  },
  {
   "cell_type": "code",
   "execution_count": 11,
   "metadata": {},
   "outputs": [
    {
     "data": {
      "text/html": [
       "<div>\n",
       "<style scoped>\n",
       "    .dataframe tbody tr th:only-of-type {\n",
       "        vertical-align: middle;\n",
       "    }\n",
       "\n",
       "    .dataframe tbody tr th {\n",
       "        vertical-align: top;\n",
       "    }\n",
       "\n",
       "    .dataframe thead th {\n",
       "        text-align: right;\n",
       "    }\n",
       "</style>\n",
       "<table border=\"1\" class=\"dataframe\">\n",
       "  <thead>\n",
       "    <tr style=\"text-align: right;\">\n",
       "      <th></th>\n",
       "      <th>visit_id</th>\n",
       "      <th>cicid</th>\n",
       "      <th>i94yr</th>\n",
       "      <th>i94mon</th>\n",
       "      <th>i94cit</th>\n",
       "      <th>i94res</th>\n",
       "      <th>i94port</th>\n",
       "      <th>arrdate</th>\n",
       "      <th>i94mode</th>\n",
       "      <th>i94addr</th>\n",
       "      <th>...</th>\n",
       "      <th>entdepu</th>\n",
       "      <th>matflag</th>\n",
       "      <th>biryear</th>\n",
       "      <th>dtaddto</th>\n",
       "      <th>gender</th>\n",
       "      <th>insnum</th>\n",
       "      <th>airline</th>\n",
       "      <th>admnum</th>\n",
       "      <th>fltno</th>\n",
       "      <th>visatype</th>\n",
       "    </tr>\n",
       "  </thead>\n",
       "  <tbody>\n",
       "    <tr>\n",
       "      <th>0</th>\n",
       "      <td>2027561</td>\n",
       "      <td>4084316.0</td>\n",
       "      <td>2016.0</td>\n",
       "      <td>4.0</td>\n",
       "      <td>209.0</td>\n",
       "      <td>209.0</td>\n",
       "      <td>HHW</td>\n",
       "      <td>20566.0</td>\n",
       "      <td>1.0</td>\n",
       "      <td>HI</td>\n",
       "      <td>...</td>\n",
       "      <td>NaN</td>\n",
       "      <td>M</td>\n",
       "      <td>1955.0</td>\n",
       "      <td>07202016</td>\n",
       "      <td>F</td>\n",
       "      <td>NaN</td>\n",
       "      <td>JL</td>\n",
       "      <td>5.658267e+10</td>\n",
       "      <td>00782</td>\n",
       "      <td>WT</td>\n",
       "    </tr>\n",
       "    <tr>\n",
       "      <th>1</th>\n",
       "      <td>2171295</td>\n",
       "      <td>4422636.0</td>\n",
       "      <td>2016.0</td>\n",
       "      <td>4.0</td>\n",
       "      <td>582.0</td>\n",
       "      <td>582.0</td>\n",
       "      <td>MCA</td>\n",
       "      <td>20567.0</td>\n",
       "      <td>1.0</td>\n",
       "      <td>TX</td>\n",
       "      <td>...</td>\n",
       "      <td>NaN</td>\n",
       "      <td>M</td>\n",
       "      <td>1990.0</td>\n",
       "      <td>10222016</td>\n",
       "      <td>M</td>\n",
       "      <td>NaN</td>\n",
       "      <td>*GA</td>\n",
       "      <td>9.436200e+10</td>\n",
       "      <td>XBLNG</td>\n",
       "      <td>B2</td>\n",
       "    </tr>\n",
       "    <tr>\n",
       "      <th>2</th>\n",
       "      <td>589494</td>\n",
       "      <td>1195600.0</td>\n",
       "      <td>2016.0</td>\n",
       "      <td>4.0</td>\n",
       "      <td>148.0</td>\n",
       "      <td>112.0</td>\n",
       "      <td>OGG</td>\n",
       "      <td>20551.0</td>\n",
       "      <td>1.0</td>\n",
       "      <td>FL</td>\n",
       "      <td>...</td>\n",
       "      <td>NaN</td>\n",
       "      <td>M</td>\n",
       "      <td>1940.0</td>\n",
       "      <td>07052016</td>\n",
       "      <td>M</td>\n",
       "      <td>NaN</td>\n",
       "      <td>LH</td>\n",
       "      <td>5.578047e+10</td>\n",
       "      <td>00464</td>\n",
       "      <td>WT</td>\n",
       "    </tr>\n",
       "    <tr>\n",
       "      <th>3</th>\n",
       "      <td>2631158</td>\n",
       "      <td>5291768.0</td>\n",
       "      <td>2016.0</td>\n",
       "      <td>4.0</td>\n",
       "      <td>297.0</td>\n",
       "      <td>297.0</td>\n",
       "      <td>LOS</td>\n",
       "      <td>20572.0</td>\n",
       "      <td>1.0</td>\n",
       "      <td>CA</td>\n",
       "      <td>...</td>\n",
       "      <td>NaN</td>\n",
       "      <td>M</td>\n",
       "      <td>1991.0</td>\n",
       "      <td>10272016</td>\n",
       "      <td>M</td>\n",
       "      <td>NaN</td>\n",
       "      <td>QR</td>\n",
       "      <td>9.478970e+10</td>\n",
       "      <td>00739</td>\n",
       "      <td>B2</td>\n",
       "    </tr>\n",
       "    <tr>\n",
       "      <th>4</th>\n",
       "      <td>3032257</td>\n",
       "      <td>985523.0</td>\n",
       "      <td>2016.0</td>\n",
       "      <td>4.0</td>\n",
       "      <td>111.0</td>\n",
       "      <td>111.0</td>\n",
       "      <td>CHM</td>\n",
       "      <td>20550.0</td>\n",
       "      <td>3.0</td>\n",
       "      <td>NY</td>\n",
       "      <td>...</td>\n",
       "      <td>NaN</td>\n",
       "      <td>M</td>\n",
       "      <td>1997.0</td>\n",
       "      <td>07042016</td>\n",
       "      <td>F</td>\n",
       "      <td>NaN</td>\n",
       "      <td>NaN</td>\n",
       "      <td>4.232257e+10</td>\n",
       "      <td>LAND</td>\n",
       "      <td>WT</td>\n",
       "    </tr>\n",
       "    <tr>\n",
       "      <th>...</th>\n",
       "      <td>...</td>\n",
       "      <td>...</td>\n",
       "      <td>...</td>\n",
       "      <td>...</td>\n",
       "      <td>...</td>\n",
       "      <td>...</td>\n",
       "      <td>...</td>\n",
       "      <td>...</td>\n",
       "      <td>...</td>\n",
       "      <td>...</td>\n",
       "      <td>...</td>\n",
       "      <td>...</td>\n",
       "      <td>...</td>\n",
       "      <td>...</td>\n",
       "      <td>...</td>\n",
       "      <td>...</td>\n",
       "      <td>...</td>\n",
       "      <td>...</td>\n",
       "      <td>...</td>\n",
       "      <td>...</td>\n",
       "      <td>...</td>\n",
       "    </tr>\n",
       "    <tr>\n",
       "      <th>995</th>\n",
       "      <td>2117909</td>\n",
       "      <td>4288772.0</td>\n",
       "      <td>2016.0</td>\n",
       "      <td>4.0</td>\n",
       "      <td>135.0</td>\n",
       "      <td>135.0</td>\n",
       "      <td>LVG</td>\n",
       "      <td>20567.0</td>\n",
       "      <td>1.0</td>\n",
       "      <td>NV</td>\n",
       "      <td>...</td>\n",
       "      <td>NaN</td>\n",
       "      <td>M</td>\n",
       "      <td>1984.0</td>\n",
       "      <td>07212016</td>\n",
       "      <td>M</td>\n",
       "      <td>NaN</td>\n",
       "      <td>VS</td>\n",
       "      <td>5.914065e+10</td>\n",
       "      <td>00043</td>\n",
       "      <td>WT</td>\n",
       "    </tr>\n",
       "    <tr>\n",
       "      <th>996</th>\n",
       "      <td>1463022</td>\n",
       "      <td>2947585.0</td>\n",
       "      <td>2016.0</td>\n",
       "      <td>4.0</td>\n",
       "      <td>261.0</td>\n",
       "      <td>261.0</td>\n",
       "      <td>PSP</td>\n",
       "      <td>20560.0</td>\n",
       "      <td>1.0</td>\n",
       "      <td>HI</td>\n",
       "      <td>...</td>\n",
       "      <td>NaN</td>\n",
       "      <td>M</td>\n",
       "      <td>1981.0</td>\n",
       "      <td>10152016</td>\n",
       "      <td>M</td>\n",
       "      <td>NaN</td>\n",
       "      <td>SV</td>\n",
       "      <td>9.371186e+10</td>\n",
       "      <td>00041</td>\n",
       "      <td>B1</td>\n",
       "    </tr>\n",
       "    <tr>\n",
       "      <th>997</th>\n",
       "      <td>1414569</td>\n",
       "      <td>2883298.0</td>\n",
       "      <td>2016.0</td>\n",
       "      <td>4.0</td>\n",
       "      <td>111.0</td>\n",
       "      <td>111.0</td>\n",
       "      <td>MIA</td>\n",
       "      <td>20560.0</td>\n",
       "      <td>1.0</td>\n",
       "      <td>FL</td>\n",
       "      <td>...</td>\n",
       "      <td>NaN</td>\n",
       "      <td>M</td>\n",
       "      <td>1977.0</td>\n",
       "      <td>07142016</td>\n",
       "      <td>M</td>\n",
       "      <td>NaN</td>\n",
       "      <td>AF</td>\n",
       "      <td>5.627747e+10</td>\n",
       "      <td>00090</td>\n",
       "      <td>WT</td>\n",
       "    </tr>\n",
       "    <tr>\n",
       "      <th>998</th>\n",
       "      <td>1094181</td>\n",
       "      <td>2264857.0</td>\n",
       "      <td>2016.0</td>\n",
       "      <td>4.0</td>\n",
       "      <td>582.0</td>\n",
       "      <td>582.0</td>\n",
       "      <td>ATL</td>\n",
       "      <td>20556.0</td>\n",
       "      <td>1.0</td>\n",
       "      <td>WI</td>\n",
       "      <td>...</td>\n",
       "      <td>NaN</td>\n",
       "      <td>M</td>\n",
       "      <td>1981.0</td>\n",
       "      <td>10112016</td>\n",
       "      <td>M</td>\n",
       "      <td>NaN</td>\n",
       "      <td>EV</td>\n",
       "      <td>9.334035e+10</td>\n",
       "      <td>05510</td>\n",
       "      <td>B1</td>\n",
       "    </tr>\n",
       "    <tr>\n",
       "      <th>999</th>\n",
       "      <td>2271807</td>\n",
       "      <td>4654865.0</td>\n",
       "      <td>2016.0</td>\n",
       "      <td>4.0</td>\n",
       "      <td>687.0</td>\n",
       "      <td>687.0</td>\n",
       "      <td>MIA</td>\n",
       "      <td>20568.0</td>\n",
       "      <td>1.0</td>\n",
       "      <td>FL</td>\n",
       "      <td>...</td>\n",
       "      <td>NaN</td>\n",
       "      <td>M</td>\n",
       "      <td>1972.0</td>\n",
       "      <td>10232016</td>\n",
       "      <td>F</td>\n",
       "      <td>NaN</td>\n",
       "      <td>LA</td>\n",
       "      <td>9.440386e+10</td>\n",
       "      <td>02514</td>\n",
       "      <td>B2</td>\n",
       "    </tr>\n",
       "  </tbody>\n",
       "</table>\n",
       "<p>1000 rows × 29 columns</p>\n",
       "</div>"
      ],
      "text/plain": [
       "     visit_id      cicid   i94yr  i94mon  i94cit  i94res i94port  arrdate  \\\n",
       "0     2027561  4084316.0  2016.0     4.0   209.0   209.0     HHW  20566.0   \n",
       "1     2171295  4422636.0  2016.0     4.0   582.0   582.0     MCA  20567.0   \n",
       "2      589494  1195600.0  2016.0     4.0   148.0   112.0     OGG  20551.0   \n",
       "3     2631158  5291768.0  2016.0     4.0   297.0   297.0     LOS  20572.0   \n",
       "4     3032257   985523.0  2016.0     4.0   111.0   111.0     CHM  20550.0   \n",
       "..        ...        ...     ...     ...     ...     ...     ...      ...   \n",
       "995   2117909  4288772.0  2016.0     4.0   135.0   135.0     LVG  20567.0   \n",
       "996   1463022  2947585.0  2016.0     4.0   261.0   261.0     PSP  20560.0   \n",
       "997   1414569  2883298.0  2016.0     4.0   111.0   111.0     MIA  20560.0   \n",
       "998   1094181  2264857.0  2016.0     4.0   582.0   582.0     ATL  20556.0   \n",
       "999   2271807  4654865.0  2016.0     4.0   687.0   687.0     MIA  20568.0   \n",
       "\n",
       "     i94mode i94addr  ...  entdepu  matflag  biryear   dtaddto  gender insnum  \\\n",
       "0        1.0      HI  ...      NaN        M   1955.0  07202016       F    NaN   \n",
       "1        1.0      TX  ...      NaN        M   1990.0  10222016       M    NaN   \n",
       "2        1.0      FL  ...      NaN        M   1940.0  07052016       M    NaN   \n",
       "3        1.0      CA  ...      NaN        M   1991.0  10272016       M    NaN   \n",
       "4        3.0      NY  ...      NaN        M   1997.0  07042016       F    NaN   \n",
       "..       ...     ...  ...      ...      ...      ...       ...     ...    ...   \n",
       "995      1.0      NV  ...      NaN        M   1984.0  07212016       M    NaN   \n",
       "996      1.0      HI  ...      NaN        M   1981.0  10152016       M    NaN   \n",
       "997      1.0      FL  ...      NaN        M   1977.0  07142016       M    NaN   \n",
       "998      1.0      WI  ...      NaN        M   1981.0  10112016       M    NaN   \n",
       "999      1.0      FL  ...      NaN        M   1972.0  10232016       F    NaN   \n",
       "\n",
       "    airline        admnum  fltno  visatype  \n",
       "0        JL  5.658267e+10  00782        WT  \n",
       "1       *GA  9.436200e+10  XBLNG        B2  \n",
       "2        LH  5.578047e+10  00464        WT  \n",
       "3        QR  9.478970e+10  00739        B2  \n",
       "4       NaN  4.232257e+10   LAND        WT  \n",
       "..      ...           ...    ...       ...  \n",
       "995      VS  5.914065e+10  00043        WT  \n",
       "996      SV  9.371186e+10  00041        B1  \n",
       "997      AF  5.627747e+10  00090        WT  \n",
       "998      EV  9.334035e+10  05510        B1  \n",
       "999      LA  9.440386e+10  02514        B2  \n",
       "\n",
       "[1000 rows x 29 columns]"
      ]
     },
     "execution_count": 11,
     "metadata": {},
     "output_type": "execute_result"
    }
   ],
   "source": [
    "visits.iloc[:, :30]"
   ]
  },
  {
   "cell_type": "code",
   "execution_count": 52,
   "metadata": {},
   "outputs": [
    {
     "name": "stdout",
     "output_type": "stream",
     "text": [
      "<class 'pandas.core.frame.DataFrame'>\n",
      "RangeIndex: 1000 entries, 0 to 999\n",
      "Data columns (total 29 columns):\n",
      " #   Column    Non-Null Count  Dtype  \n",
      "---  ------    --------------  -----  \n",
      " 0   visit_id  1000 non-null   int64  \n",
      " 1   cicid     1000 non-null   float64\n",
      " 2   i94yr     1000 non-null   float64\n",
      " 3   i94mon    1000 non-null   float64\n",
      " 4   i94cit    1000 non-null   float64\n",
      " 5   i94res    1000 non-null   float64\n",
      " 6   i94port   1000 non-null   object \n",
      " 7   arrdate   1000 non-null   float64\n",
      " 8   i94mode   1000 non-null   float64\n",
      " 9   i94addr   941 non-null    object \n",
      " 10  depdate   951 non-null    float64\n",
      " 11  i94bir    1000 non-null   float64\n",
      " 12  i94visa   1000 non-null   float64\n",
      " 13  count     1000 non-null   float64\n",
      " 14  dtadfile  1000 non-null   int64  \n",
      " 15  visapost  382 non-null    object \n",
      " 16  occup     4 non-null      object \n",
      " 17  entdepa   1000 non-null   object \n",
      " 18  entdepd   954 non-null    object \n",
      " 19  entdepu   0 non-null      float64\n",
      " 20  matflag   954 non-null    object \n",
      " 21  biryear   1000 non-null   float64\n",
      " 22  dtaddto   1000 non-null   object \n",
      " 23  gender    859 non-null    object \n",
      " 24  insnum    35 non-null     float64\n",
      " 25  airline   967 non-null    object \n",
      " 26  admnum    1000 non-null   float64\n",
      " 27  fltno     992 non-null    object \n",
      " 28  visatype  1000 non-null   object \n",
      "dtypes: float64(15), int64(2), object(12)\n",
      "memory usage: 226.7+ KB\n"
     ]
    }
   ],
   "source": [
    "visits.info()"
   ]
  },
  {
   "cell_type": "code",
   "execution_count": 48,
   "metadata": {},
   "outputs": [],
   "source": [
    "visits['arrdate'] = pd.to_timedelta(visits.arrdate, unit='D') + start_epoch\n",
    "visits['depdate'] = pd.to_timedelta(visits.depdate, unit='D') + start_epoch\n",
    "visits['biryear'] = visits.biryear.apply(int)"
   ]
  },
  {
   "cell_type": "code",
   "execution_count": 53,
   "metadata": {},
   "outputs": [],
   "source": [
    "feats_to_drop =['i94yr', 'i94mon', 'insnum', 'dtadfile', 'fltno', 'i94bir', 'occup', 'matflag', 'admnum']\n",
    "visits.drop(feats_to_drop, axis=1, inplace=True)"
   ]
  },
  {
   "cell_type": "code",
   "execution_count": 54,
   "metadata": {},
   "outputs": [
    {
     "data": {
      "image/png": "[encoded data removed]",
      "text/plain": [
       "<Figure size 1440x576 with 1 Axes>"
      ]
     },
     "metadata": {
      "needs_background": "light"
     },
     "output_type": "display_data"
    }
   ],
   "source": [
    "utils.plot_null_val_heatmap(visits, \"Tourist Visits - Null Value\", (20,8))"
   ]
  },
  {
   "cell_type": "code",
   "execution_count": 59,
   "metadata": {},
   "outputs": [
    {
     "name": "stdout",
     "output_type": "stream",
     "text": [
      "visit_id: 1000\n",
      "cicid: 1000\n",
      "i94cit: 88\n",
      "i94res: 91\n",
      "i94port: 70\n",
      "arrdate: 30\n",
      "i94mode: 4\n",
      "i94addr: 51\n",
      "depdate: 109\n",
      "i94visa: 3\n",
      "count: 1\n",
      "visapost: 97\n",
      "entdepa: 9\n",
      "entdepd: 10\n",
      "entdepu: 0\n",
      "matflag: 1\n",
      "biryear: 85\n",
      "dtaddto: 99\n",
      "gender: 3\n",
      "airline: 101\n",
      "admnum: 1000\n",
      "visatype: 10\n"
     ]
    }
   ],
   "source": [
    "for col in visits.columns:\n",
    "    print(f\"{col}: {visits[col].nunique()}\")"
   ]
  },
  {
   "cell_type": "code",
   "execution_count": 60,
   "metadata": {},
   "outputs": [
    {
     "data": {
      "text/plain": [
       "array(['M', nan], dtype=object)"
      ]
     },
     "execution_count": 60,
     "metadata": {},
     "output_type": "execute_result"
    }
   ],
   "source": [
    "visits.matflag.unique()"
   ]
  },
  {
   "cell_type": "markdown",
   "metadata": {},
   "source": [
    "---\n",
    "## Global Temperatures"
   ]
  },
  {
   "cell_type": "code",
   "execution_count": 14,
   "metadata": {},
   "outputs": [
    {
     "data": {
      "text/html": [
       "<div>\n",
       "<style scoped>\n",
       "    .dataframe tbody tr th:only-of-type {\n",
       "        vertical-align: middle;\n",
       "    }\n",
       "\n",
       "    .dataframe tbody tr th {\n",
       "        vertical-align: top;\n",
       "    }\n",
       "\n",
       "    .dataframe thead th {\n",
       "        text-align: right;\n",
       "    }\n",
       "</style>\n",
       "<table border=\"1\" class=\"dataframe\">\n",
       "  <thead>\n",
       "    <tr style=\"text-align: right;\">\n",
       "      <th></th>\n",
       "      <th>dt</th>\n",
       "      <th>AverageTemperature</th>\n",
       "      <th>AverageTemperatureUncertainty</th>\n",
       "      <th>City</th>\n",
       "      <th>Country</th>\n",
       "      <th>Latitude</th>\n",
       "      <th>Longitude</th>\n",
       "    </tr>\n",
       "  </thead>\n",
       "  <tbody>\n",
       "    <tr>\n",
       "      <th>8439242</th>\n",
       "      <td>2013-05-01</td>\n",
       "      <td>15.544</td>\n",
       "      <td>0.281</td>\n",
       "      <td>Yonkers</td>\n",
       "      <td>United States</td>\n",
       "      <td>40.99N</td>\n",
       "      <td>74.56W</td>\n",
       "    </tr>\n",
       "    <tr>\n",
       "      <th>8439243</th>\n",
       "      <td>2013-06-01</td>\n",
       "      <td>20.892</td>\n",
       "      <td>0.273</td>\n",
       "      <td>Yonkers</td>\n",
       "      <td>United States</td>\n",
       "      <td>40.99N</td>\n",
       "      <td>74.56W</td>\n",
       "    </tr>\n",
       "    <tr>\n",
       "      <th>8439244</th>\n",
       "      <td>2013-07-01</td>\n",
       "      <td>24.722</td>\n",
       "      <td>0.279</td>\n",
       "      <td>Yonkers</td>\n",
       "      <td>United States</td>\n",
       "      <td>40.99N</td>\n",
       "      <td>74.56W</td>\n",
       "    </tr>\n",
       "    <tr>\n",
       "      <th>8439245</th>\n",
       "      <td>2013-08-01</td>\n",
       "      <td>21.001</td>\n",
       "      <td>0.323</td>\n",
       "      <td>Yonkers</td>\n",
       "      <td>United States</td>\n",
       "      <td>40.99N</td>\n",
       "      <td>74.56W</td>\n",
       "    </tr>\n",
       "    <tr>\n",
       "      <th>8439246</th>\n",
       "      <td>2013-09-01</td>\n",
       "      <td>17.408</td>\n",
       "      <td>1.048</td>\n",
       "      <td>Yonkers</td>\n",
       "      <td>United States</td>\n",
       "      <td>40.99N</td>\n",
       "      <td>74.56W</td>\n",
       "    </tr>\n",
       "  </tbody>\n",
       "</table>\n",
       "</div>"
      ],
      "text/plain": [
       "                 dt  AverageTemperature  AverageTemperatureUncertainty  \\\n",
       "8439242  2013-05-01              15.544                          0.281   \n",
       "8439243  2013-06-01              20.892                          0.273   \n",
       "8439244  2013-07-01              24.722                          0.279   \n",
       "8439245  2013-08-01              21.001                          0.323   \n",
       "8439246  2013-09-01              17.408                          1.048   \n",
       "\n",
       "            City        Country Latitude Longitude  \n",
       "8439242  Yonkers  United States   40.99N    74.56W  \n",
       "8439243  Yonkers  United States   40.99N    74.56W  \n",
       "8439244  Yonkers  United States   40.99N    74.56W  \n",
       "8439245  Yonkers  United States   40.99N    74.56W  \n",
       "8439246  Yonkers  United States   40.99N    74.56W  "
      ]
     },
     "execution_count": 14,
     "metadata": {},
     "output_type": "execute_result"
    }
   ],
   "source": [
    "weather = weather[weather.Country == 'United States'].copy()\n",
    "weather.tail()"
   ]
  },
  {
   "cell_type": "code",
   "execution_count": 17,
   "metadata": {},
   "outputs": [
    {
     "name": "stdout",
     "output_type": "stream",
     "text": [
      "# of unique US Cities: 248\n"
     ]
    }
   ],
   "source": [
    "num_unique_usa_cities = len(weather.City.unique())\n",
    "print(f\"# of unique US Cities: {num_unique_usa_cities}\")"
   ]
  },
  {
   "cell_type": "markdown",
   "metadata": {},
   "source": [
    "---\n",
    "## Aggregation"
   ]
  },
  {
   "cell_type": "code",
   "execution_count": 30,
   "metadata": {},
   "outputs": [
    {
     "ename": "ValueError",
     "evalue": "magic number mismatch (not a SAS file?)",
     "output_type": "error",
     "traceback": [
      "\u001b[0;31m---------------------------------------------------------------------------\u001b[0m",
      "\u001b[0;31mValueError\u001b[0m                                Traceback (most recent call last)",
      "\u001b[0;32m<ipython-input-30-3bc4bf34b028>\u001b[0m in \u001b[0;36m<module>\u001b[0;34m\u001b[0m\n\u001b[0;32m----> 1\u001b[0;31m \u001b[0mlabels\u001b[0m \u001b[0;34m=\u001b[0m \u001b[0mpd\u001b[0m\u001b[0;34m.\u001b[0m\u001b[0mread_sas\u001b[0m\u001b[0;34m(\u001b[0m\u001b[0;34m'data/I94_SAS_Labels_Descriptions.sas'\u001b[0m\u001b[0;34m,\u001b[0m \u001b[0;34m'sas7bdat'\u001b[0m\u001b[0;34m,\u001b[0m \u001b[0mencoding\u001b[0m\u001b[0;34m=\u001b[0m\u001b[0;34m\"ISO-8859-1\"\u001b[0m\u001b[0;34m)\u001b[0m\u001b[0;34m\u001b[0m\u001b[0;34m\u001b[0m\u001b[0m\n\u001b[0m",
      "\u001b[0;32m~/opt/anaconda3/envs/udac_cap/lib/python3.9/site-packages/pandas/io/sas/sasreader.py\u001b[0m in \u001b[0;36mread_sas\u001b[0;34m(filepath_or_buffer, format, index, encoding, chunksize, iterator)\u001b[0m\n\u001b[1;32m    137\u001b[0m         \u001b[0;32mfrom\u001b[0m \u001b[0mpandas\u001b[0m\u001b[0;34m.\u001b[0m\u001b[0mio\u001b[0m\u001b[0;34m.\u001b[0m\u001b[0msas\u001b[0m\u001b[0;34m.\u001b[0m\u001b[0msas7bdat\u001b[0m \u001b[0;32mimport\u001b[0m \u001b[0mSAS7BDATReader\u001b[0m\u001b[0;34m\u001b[0m\u001b[0;34m\u001b[0m\u001b[0m\n\u001b[1;32m    138\u001b[0m \u001b[0;34m\u001b[0m\u001b[0m\n\u001b[0;32m--> 139\u001b[0;31m         reader = SAS7BDATReader(\n\u001b[0m\u001b[1;32m    140\u001b[0m             \u001b[0mfilepath_or_buffer\u001b[0m\u001b[0;34m,\u001b[0m\u001b[0;34m\u001b[0m\u001b[0;34m\u001b[0m\u001b[0m\n\u001b[1;32m    141\u001b[0m             \u001b[0mindex\u001b[0m\u001b[0;34m=\u001b[0m\u001b[0mindex\u001b[0m\u001b[0;34m,\u001b[0m\u001b[0;34m\u001b[0m\u001b[0;34m\u001b[0m\u001b[0m\n",
      "\u001b[0;32m~/opt/anaconda3/envs/udac_cap/lib/python3.9/site-packages/pandas/io/sas/sas7bdat.py\u001b[0m in \u001b[0;36m__init__\u001b[0;34m(self, path_or_buf, index, convert_dates, blank_missing, chunksize, encoding, convert_text, convert_header_text)\u001b[0m\n\u001b[1;32m    174\u001b[0m \u001b[0;34m\u001b[0m\u001b[0m\n\u001b[1;32m    175\u001b[0m         \u001b[0;32mtry\u001b[0m\u001b[0;34m:\u001b[0m\u001b[0;34m\u001b[0m\u001b[0;34m\u001b[0m\u001b[0m\n\u001b[0;32m--> 176\u001b[0;31m             \u001b[0mself\u001b[0m\u001b[0;34m.\u001b[0m\u001b[0m_get_properties\u001b[0m\u001b[0;34m(\u001b[0m\u001b[0;34m)\u001b[0m\u001b[0;34m\u001b[0m\u001b[0;34m\u001b[0m\u001b[0m\n\u001b[0m\u001b[1;32m    177\u001b[0m             \u001b[0mself\u001b[0m\u001b[0;34m.\u001b[0m\u001b[0m_parse_metadata\u001b[0m\u001b[0;34m(\u001b[0m\u001b[0;34m)\u001b[0m\u001b[0;34m\u001b[0m\u001b[0;34m\u001b[0m\u001b[0m\n\u001b[1;32m    178\u001b[0m         \u001b[0;32mexcept\u001b[0m \u001b[0mException\u001b[0m\u001b[0;34m:\u001b[0m\u001b[0;34m\u001b[0m\u001b[0;34m\u001b[0m\u001b[0m\n",
      "\u001b[0;32m~/opt/anaconda3/envs/udac_cap/lib/python3.9/site-packages/pandas/io/sas/sas7bdat.py\u001b[0m in \u001b[0;36m_get_properties\u001b[0;34m(self)\u001b[0m\n\u001b[1;32m    204\u001b[0m         \u001b[0mself\u001b[0m\u001b[0;34m.\u001b[0m\u001b[0m_cached_page\u001b[0m \u001b[0;34m=\u001b[0m \u001b[0mself\u001b[0m\u001b[0;34m.\u001b[0m\u001b[0m_path_or_buf\u001b[0m\u001b[0;34m.\u001b[0m\u001b[0mread\u001b[0m\u001b[0;34m(\u001b[0m\u001b[0;36m288\u001b[0m\u001b[0;34m)\u001b[0m\u001b[0;34m\u001b[0m\u001b[0;34m\u001b[0m\u001b[0m\n\u001b[1;32m    205\u001b[0m         \u001b[0;32mif\u001b[0m \u001b[0mself\u001b[0m\u001b[0;34m.\u001b[0m\u001b[0m_cached_page\u001b[0m\u001b[0;34m[\u001b[0m\u001b[0;36m0\u001b[0m \u001b[0;34m:\u001b[0m \u001b[0mlen\u001b[0m\u001b[0;34m(\u001b[0m\u001b[0mconst\u001b[0m\u001b[0;34m.\u001b[0m\u001b[0mmagic\u001b[0m\u001b[0;34m)\u001b[0m\u001b[0;34m]\u001b[0m \u001b[0;34m!=\u001b[0m \u001b[0mconst\u001b[0m\u001b[0;34m.\u001b[0m\u001b[0mmagic\u001b[0m\u001b[0;34m:\u001b[0m\u001b[0;34m\u001b[0m\u001b[0;34m\u001b[0m\u001b[0m\n\u001b[0;32m--> 206\u001b[0;31m             \u001b[0;32mraise\u001b[0m \u001b[0mValueError\u001b[0m\u001b[0;34m(\u001b[0m\u001b[0;34m\"magic number mismatch (not a SAS file?)\"\u001b[0m\u001b[0;34m)\u001b[0m\u001b[0;34m\u001b[0m\u001b[0;34m\u001b[0m\u001b[0m\n\u001b[0m\u001b[1;32m    207\u001b[0m \u001b[0;34m\u001b[0m\u001b[0m\n\u001b[1;32m    208\u001b[0m         \u001b[0;31m# Get alignment information\u001b[0m\u001b[0;34m\u001b[0m\u001b[0;34m\u001b[0m\u001b[0;34m\u001b[0m\u001b[0m\n",
      "\u001b[0;31mValueError\u001b[0m: magic number mismatch (not a SAS file?)"
     ]
    }
   ],
   "source": [
    "labels = pd.read_sas('data/I94_SAS_Labels_Descriptions.sas', 'sas7bdat', encoding=\"ISO-8859-1\")"
   ]
  },
  {
   "cell_type": "code",
   "execution_count": 29,
   "metadata": {},
   "outputs": [
    {
     "data": {
      "text/plain": [
       "217"
      ]
     },
     "execution_count": 29,
     "metadata": {},
     "output_type": "execute_result"
    }
   ],
   "source": [
    "# Number of cities that exist in BOTH \"cities\" and \"usa_med_large\" dfs.\n",
    "# \"cities\" has a total of 2,891 cities.\n",
    "len(set(cities.City).intersection(set(usa_med_large.municipality)))"
   ]
  },
  {
   "cell_type": "code",
   "execution_count": null,
   "metadata": {},
   "outputs": [],
   "source": []
  }
 ],
 "metadata": {
  "kernelspec": {
   "display_name": "Python 3",
   "language": "python",
   "name": "python3"
  },
  "language_info": {
   "codemirror_mode": {
    "name": "ipython",
    "version": 3
   },
   "file_extension": ".py",
   "mimetype": "text/x-python",
   "name": "python",
   "nbconvert_exporter": "python",
   "pygments_lexer": "ipython3",
   "version": "3.8.5"
  }
 },
 "nbformat": 4,
 "nbformat_minor": 5
}
