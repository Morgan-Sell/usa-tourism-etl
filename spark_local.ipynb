{
 "cells": [
  {
   "cell_type": "markdown",
   "id": "occupied-geneva",
   "metadata": {},
   "source": [
    "# Spark Local Test"
   ]
  },
  {
   "cell_type": "code",
   "execution_count": 1,
   "id": "chemical-logging",
   "metadata": {},
   "outputs": [],
   "source": [
    "import pandas as pd\n",
    "import numpy as np\n",
    "from zipfile import ZipFile\n",
    "\n",
    "import configparser\n",
    "from pyspark.sql import SparkSession, Window\n",
    "from pyspark import SparkContext, SparkConf\n",
    "from pyspark.sql.functions import udf, col, monotonically_increasing_id, row_number\n",
    "from pyspark.sql.functions import year, month, dayofmonth, hour, weekofyear, date_format\n",
    "from pyspark.sql.types import TimestampType, DateType\n",
    "from pyspark.sql import functions as F\n",
    "\n",
    "from datetime import datetime\n",
    "\n",
    "import os"
   ]
  },
  {
   "cell_type": "markdown",
   "id": "vital-partner",
   "metadata": {},
   "source": [
    "## Configure Connection"
   ]
  },
  {
   "cell_type": "code",
   "execution_count": 2,
   "id": "furnished-kenya",
   "metadata": {},
   "outputs": [],
   "source": [
    "# sc.stop()"
   ]
  },
  {
   "cell_type": "code",
   "execution_count": 3,
   "id": "engaging-little",
   "metadata": {},
   "outputs": [],
   "source": [
    "output_data = \"test_output/\""
   ]
  },
  {
   "cell_type": "code",
   "execution_count": 4,
   "id": "healthy-breakdown",
   "metadata": {},
   "outputs": [],
   "source": [
    "configure = SparkConf().setAppName('udac_config').setMaster('local')\n",
    "sc = SparkContext(conf = configure)"
   ]
  },
  {
   "cell_type": "code",
   "execution_count": 5,
   "id": "architectural-oxford",
   "metadata": {},
   "outputs": [],
   "source": [
    "# getOrCreate modifies the parameters of existing Spark Session\n",
    "spark = SparkSession.builder.appName('udac_cap').config('config option', 'config value').getOrCreate()"
   ]
  },
  {
   "cell_type": "code",
   "execution_count": 6,
   "id": "protective-number",
   "metadata": {},
   "outputs": [
    {
     "data": {
      "text/plain": [
       "[('spark.master', 'local'),\n",
       " ('spark.driver.port', '61700'),\n",
       " ('spark.app.id', 'local-1616188128699'),\n",
       " ('spark.sql.warehouse.dir',\n",
       "  'file:/Users/morgan/Documents/10_Udacity/data_eng_nano/usa-tourism-etl/spark-warehouse'),\n",
       " ('spark.app.startTime', '1616188127780'),\n",
       " ('spark.rdd.compress', 'True'),\n",
       " ('spark.driver.host', '10.0.0.223'),\n",
       " ('spark.app.name', 'udac_config'),\n",
       " ('spark.serializer.objectStreamReset', '100'),\n",
       " ('spark.submit.pyFiles', ''),\n",
       " ('spark.executor.id', 'driver'),\n",
       " ('spark.submit.deployMode', 'client'),\n",
       " ('spark.ui.showConsoleProgress', 'true')]"
      ]
     },
     "execution_count": 6,
     "metadata": {},
     "output_type": "execute_result"
    }
   ],
   "source": [
    "spark.sparkContext.getConf().getAll()"
   ]
  },
  {
   "cell_type": "markdown",
   "id": "incorporated-observer",
   "metadata": {},
   "source": [
    "### Airports"
   ]
  },
  {
   "cell_type": "code",
   "execution_count": 7,
   "id": "surrounded-occurrence",
   "metadata": {},
   "outputs": [],
   "source": [
    "airports = spark.read.option(\"header\", True).csv(\"data/airport_codes.csv\")"
   ]
  },
  {
   "cell_type": "code",
   "execution_count": 8,
   "id": "common-incidence",
   "metadata": {},
   "outputs": [],
   "source": [
    "lat_long = F.split(airports.coordinates, \",\")\n",
    "airports = airports.withColumn('longitude', lat_long.getItem(0))\n",
    "airports = airports.withColumn('latitude', lat_long.getItem(1))\n",
    "\n",
    "region_split = F.split(airports.iso_region, \"-\")\n",
    "airports = airports.withColumn('state', region_split.getItem(1))"
   ]
  },
  {
   "cell_type": "code",
   "execution_count": 9,
   "id": "conceptual-mozambique",
   "metadata": {},
   "outputs": [],
   "source": [
    "airports = airports.select(['ident',\n",
    "                 'iata_code',\n",
    "                 'name','type',\n",
    "                 'municipality',\n",
    "                 'state',\n",
    "                 'local_code',\n",
    "                 'latitude',\n",
    "                 'longitude',\n",
    "                 'elevation_ft']).where(airports.iso_country==\"US\")"
   ]
  },
  {
   "cell_type": "code",
   "execution_count": 10,
   "id": "expressed-effect",
   "metadata": {},
   "outputs": [],
   "source": [
    "airports = airports.sort('iata_code', ascending=True)"
   ]
  },
  {
   "cell_type": "code",
   "execution_count": 11,
   "id": "steady-receiver",
   "metadata": {},
   "outputs": [],
   "source": [
    "airports = airports.na.drop(subset='iata_code')"
   ]
  },
  {
   "cell_type": "code",
   "execution_count": 12,
   "id": "portuguese-owner",
   "metadata": {},
   "outputs": [],
   "source": [
    "airports = airports.withColumn(\"latitude\", airports.latitude.cast('float'))\n",
    "airports = airports.withColumn(\"longitude\", airports.longitude.cast('float'))\n",
    "aiprots = airports.withColumn(\"elevation_fit\", airports.elevation_ft.cast('integer'))"
   ]
  },
  {
   "cell_type": "code",
   "execution_count": 13,
   "id": "contrary-charge",
   "metadata": {},
   "outputs": [
    {
     "name": "stdout",
     "output_type": "stream",
     "text": [
      "+-----+---------+--------------------+--------------+-------------+-----+----------+--------+---------+------------+\n",
      "|ident|iata_code|                name|          type| municipality|state|local_code|latitude|longitude|elevation_ft|\n",
      "+-----+---------+--------------------+--------------+-------------+-----+----------+--------+---------+------------+\n",
      "| KAAF|      AAF|Apalachicola Regi...| small_airport| Apalachicola|   FL|       AAF| 29.7275| -85.0275|          20|\n",
      "| KAAP|      AAP|      Andrau Airpark|        closed|      Houston|   TX|       AAP| 29.7225| -95.5883|          79|\n",
      "| KABE|      ABE|Lehigh Valley Int...|medium_airport|    Allentown|   PA|       ABE| 40.6521| -75.4408|         393|\n",
      "| KABI|      ABI|Abilene Regional ...|medium_airport|      Abilene|   TX|       ABI| 32.4113| -99.6819|        1791|\n",
      "| PAFM|      ABL|      Ambler Airport|medium_airport|       Ambler|   AK|       AFM| 67.1063| -157.857|         334|\n",
      "| KABQ|      ABQ|Albuquerque Inter...| large_airport|  Albuquerque|   NM|       ABQ| 35.0402| -106.609|        5355|\n",
      "| KABR|      ABR|Aberdeen Regional...|medium_airport|     Aberdeen|   SD|       ABR| 45.4491| -98.4218|        1302|\n",
      "| KABY|      ABY|Southwest Georgia...|medium_airport|       Albany|   GA|       ABY| 31.5355| -84.1945|         197|\n",
      "| KACB|      ACB|Antrim County Air...| small_airport|     Bellaire|   MI|       ACB| 44.9886| -85.1984|         623|\n",
      "| KACK|      ACK|Nantucket Memoria...|medium_airport|    Nantucket|   MA|       ACK| 41.2531| -70.0602|          47|\n",
      "| KACT|      ACT|Waco Regional Air...|medium_airport|         Waco|   TX|       ACT| 31.6113| -97.2305|         516|\n",
      "| KACV|      ACV|California Redwoo...|medium_airport|Arcata/Eureka|   CA|       ACV| 40.9781| -124.109|         221|\n",
      "| KACY|      ACY|Atlantic City Int...|medium_airport|Atlantic City|   NJ|       ACY| 39.4576| -74.5772|          75|\n",
      "| KADG|      ADG|Lenawee County Ai...| small_airport|       Adrian|   MI|       ADG| 41.8677| -84.0773|         798|\n",
      "| PADK|      ADK|        Adak Airport|medium_airport|  Adak Island|   AK|       ADK|  51.878| -176.646|          18|\n",
      "| KADM|      ADM|Ardmore Municipal...| small_airport|      Ardmore|   OK|       ADM|34.30301|-97.01963|         777|\n",
      "| PADQ|      ADQ|      Kodiak Airport|medium_airport|       Kodiak|   AK|       ADQ|   57.75| -152.494|          78|\n",
      "| KPHH|      ADR|Robert F Swinnie ...| small_airport|      Andrews|   SC|       PHH| 33.4517| -79.5262|          26|\n",
      "| KADS|      ADS|     Addison Airport| small_airport|       Dallas|   TX|       ADS| 32.9686| -96.8364|         644|\n",
      "| KADH|      ADT|Ada Regional Airport| small_airport|          Ada|   OK|       ADH| 34.8043| -96.6713|        1016|\n",
      "+-----+---------+--------------------+--------------+-------------+-----+----------+--------+---------+------------+\n",
      "only showing top 20 rows\n",
      "\n"
     ]
    }
   ],
   "source": [
    "airports.show()"
   ]
  },
  {
   "cell_type": "markdown",
   "id": "published-constant",
   "metadata": {},
   "source": [
    "#### Successfully created parquets"
   ]
  },
  {
   "cell_type": "code",
   "execution_count": 54,
   "id": "reflected-combination",
   "metadata": {},
   "outputs": [],
   "source": [
    "#airports.write.mode('overwrite').parquet(os.path.join(output_data, \"airports\"))"
   ]
  },
  {
   "cell_type": "markdown",
   "id": "satellite-genesis",
   "metadata": {},
   "source": [
    "---\n",
    "## USA Cities Demographics"
   ]
  },
  {
   "cell_type": "code",
   "execution_count": 34,
   "id": "played-baker",
   "metadata": {},
   "outputs": [],
   "source": [
    "cities = spark.read.option('header', True) \\\n",
    "        .option('delimiter', \";\") \\\n",
    "        .csv(\"data/us_cities_demographics.csv\")"
   ]
  },
  {
   "cell_type": "code",
   "execution_count": 36,
   "id": "stainless-graham",
   "metadata": {},
   "outputs": [],
   "source": [
    "cities = cities.withColumnRenamed(\"City\", \"city\") \\\n",
    "        .withColumnRenamed(\"State\", \"state\") \\\n",
    "        .withColumnRenamed(\"Median Age\", \"median_age\") \\\n",
    "        .withColumnRenamed(\"Male Population\", \"male_pop\") \\\n",
    "        .withColumnRenamed(\"Female Population\", \"female_pop\") \\\n",
    "        .withColumnRenamed(\"Total Population\", \"total_pop\") \\\n",
    "        .withColumnRenamed(\"Number of Veterans\", \"num_veterans\") \\\n",
    "        .withColumnRenamed(\"Foreign-born\", \"num_foreigners\") \\\n",
    "        .withColumnRenamed(\"Average Household Size\", \"avg_household_size\") \\\n",
    "        .withColumnRenamed(\"State Code\", \"state_code\") \\\n",
    "        .withColumnRenamed(\"Race\", \"race\") \\\n",
    "        .withColumnRenamed(\"Count\", \"race_pop\")"
   ]
  },
  {
   "cell_type": "code",
   "execution_count": 37,
   "id": "prompt-forum",
   "metadata": {},
   "outputs": [],
   "source": [
    "race_count = cities.select(F.concat_ws(\"_\", cities.state_code, cities.city).alias(\"state_city\"), \"race\", \"race_pop\" )"
   ]
  },
  {
   "cell_type": "code",
   "execution_count": 38,
   "id": "expanded-sudan",
   "metadata": {},
   "outputs": [
    {
     "name": "stdout",
     "output_type": "stream",
     "text": [
      "+-------------------+--------------------+--------+\n",
      "|         state_city|                race|race_pop|\n",
      "+-------------------+--------------------+--------+\n",
      "|   MD_Silver Spring|  Hispanic or Latino|   25924|\n",
      "|          MA_Quincy|               White|   58723|\n",
      "|          AL_Hoover|               Asian|    4759|\n",
      "|CA_Rancho Cucamonga|Black or African-...|   24437|\n",
      "|          NJ_Newark|               White|   76402|\n",
      "|          IL_Peoria|American Indian a...|    1343|\n",
      "|        AZ_Avondale|Black or African-...|   11592|\n",
      "|     CA_West Covina|               Asian|   32716|\n",
      "|        MO_O'Fallon|  Hispanic or Latino|    2583|\n",
      "|      NC_High Point|               Asian|   11060|\n",
      "|          CA_Folsom|  Hispanic or Latino|    5822|\n",
      "|          CA_Folsom|American Indian a...|     998|\n",
      "|    PA_Philadelphia|               Asian|  122721|\n",
      "|         KS_Wichita|  Hispanic or Latino|   65162|\n",
      "|         KS_Wichita|American Indian a...|    8791|\n",
      "|      FL_Fort Myers|               White|   50169|\n",
      "|      PA_Pittsburgh|               White|  208863|\n",
      "|          TX_Laredo|American Indian a...|    1253|\n",
      "|        CA_Berkeley|               Asian|   27089|\n",
      "|     CA_Santa Clara|               White|   55847|\n",
      "+-------------------+--------------------+--------+\n",
      "only showing top 20 rows\n",
      "\n"
     ]
    }
   ],
   "source": [
    "race_count.show()"
   ]
  },
  {
   "cell_type": "code",
   "execution_count": 26,
   "id": "improving-uncle",
   "metadata": {},
   "outputs": [],
   "source": [
    "cities2 = cities.select(F.)"
   ]
  },
  {
   "cell_type": "code",
   "execution_count": 29,
   "id": "binding-baker",
   "metadata": {},
   "outputs": [
    {
     "name": "stdout",
     "output_type": "stream",
     "text": [
      "+----------+-------+----------+--------+----------+---------+------------+--------------+------------------+----------+--------------------+-----------+----------+\n",
      "|      city|  state|median_age|male_pop|female_pop|total_pop|num_veterans|num_foreigners|avg_household_size|state_code|    predominant_race|pop_of_race|state_city|\n",
      "+----------+-------+----------+--------+----------+---------+------------+--------------+------------------+----------+--------------------+-----------+----------+\n",
      "|Birmingham|Alabama|      35.6|  102122|    112789|   214911|       13212|          8258|              2.21|        AL|  Hispanic or Latino|       8940|      null|\n",
      "|Birmingham|Alabama|      35.6|  102122|    112789|   214911|       13212|          8258|              2.21|        AL|               White|      51728|      null|\n",
      "|Birmingham|Alabama|      35.6|  102122|    112789|   214911|       13212|          8258|              2.21|        AL|Black or African-...|     157985|      null|\n",
      "|Birmingham|Alabama|      35.6|  102122|    112789|   214911|       13212|          8258|              2.21|        AL|               Asian|       1500|      null|\n",
      "|Birmingham|Alabama|      35.6|  102122|    112789|   214911|       13212|          8258|              2.21|        AL|American Indian a...|       1319|      null|\n",
      "|    Dothan|Alabama|      38.9|   32172|     35364|    67536|        6334|          1699|              2.59|        AL|American Indian a...|        656|      null|\n",
      "|    Dothan|Alabama|      38.9|   32172|     35364|    67536|        6334|          1699|              2.59|        AL|               White|      43516|      null|\n",
      "|    Dothan|Alabama|      38.9|   32172|     35364|    67536|        6334|          1699|              2.59|        AL|Black or African-...|      23243|      null|\n",
      "|    Dothan|Alabama|      38.9|   32172|     35364|    67536|        6334|          1699|              2.59|        AL|  Hispanic or Latino|       1704|      null|\n",
      "|    Dothan|Alabama|      38.9|   32172|     35364|    67536|        6334|          1699|              2.59|        AL|               Asian|       1175|      null|\n",
      "|    Hoover|Alabama|      38.5|   38040|     46799|    84839|        4819|          8229|              2.58|        AL|               White|      61869|      null|\n",
      "|    Hoover|Alabama|      38.5|   38040|     46799|    84839|        4819|          8229|              2.58|        AL|               Asian|       4759|      null|\n",
      "|    Hoover|Alabama|      38.5|   38040|     46799|    84839|        4819|          8229|              2.58|        AL|  Hispanic or Latino|       3430|      null|\n",
      "|    Hoover|Alabama|      38.5|   38040|     46799|    84839|        4819|          8229|              2.58|        AL|Black or African-...|      18191|      null|\n",
      "|Huntsville|Alabama|      38.1|   91764|     97350|   189114|       16637|         12691|              2.18|        AL|               Asian|       6566|      null|\n",
      "|Huntsville|Alabama|      38.1|   91764|     97350|   189114|       16637|         12691|              2.18|        AL|Black or African-...|      61561|      null|\n",
      "|Huntsville|Alabama|      38.1|   91764|     97350|   189114|       16637|         12691|              2.18|        AL|American Indian a...|       1755|      null|\n",
      "|Huntsville|Alabama|      38.1|   91764|     97350|   189114|       16637|         12691|              2.18|        AL|               White|     121904|      null|\n",
      "|Huntsville|Alabama|      38.1|   91764|     97350|   189114|       16637|         12691|              2.18|        AL|  Hispanic or Latino|      10887|      null|\n",
      "|    Mobile|Alabama|      38.0|   91275|    103030|   194305|       11939|          7234|               2.4|        AL|Black or African-...|      96397|      null|\n",
      "+----------+-------+----------+--------+----------+---------+------------+--------------+------------------+----------+--------------------+-----------+----------+\n",
      "only showing top 20 rows\n",
      "\n"
     ]
    }
   ],
   "source": [
    "cities.show()"
   ]
  },
  {
   "cell_type": "code",
   "execution_count": null,
   "id": "buried-capital",
   "metadata": {},
   "outputs": [],
   "source": []
  }
 ],
 "metadata": {
  "kernelspec": {
   "display_name": "Python 3",
   "language": "python",
   "name": "python3"
  },
  "language_info": {
   "codemirror_mode": {
    "name": "ipython",
    "version": 3
   },
   "file_extension": ".py",
   "mimetype": "text/x-python",
   "name": "python",
   "nbconvert_exporter": "python",
   "pygments_lexer": "ipython3",
   "version": "3.9.2"
  }
 },
 "nbformat": 4,
 "nbformat_minor": 5
}
