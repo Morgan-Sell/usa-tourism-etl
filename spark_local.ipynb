{
 "cells": [
  {
   "cell_type": "markdown",
   "id": "ordered-province",
   "metadata": {},
   "source": [
    "# Spark Local Test"
   ]
  },
  {
   "cell_type": "code",
   "execution_count": 26,
   "id": "initial-filter",
   "metadata": {},
   "outputs": [],
   "source": [
    "import pandas as pd\n",
    "import numpy as np\n",
    "from zipfile import ZipFile\n",
    "\n",
    "import configparser\n",
    "from pyspark.sql import SparkSession, Window\n",
    "from pyspark import SparkContext, SparkConf\n",
    "from pyspark.sql.functions import udf, col, monotonically_increasing_id, row_number\n",
    "from pyspark.sql.functions import year, month, dayofmonth, hour, weekofyear, date_format\n",
    "from pyspark.sql.types import TimestampType, DateType, StringType\n",
    "from pyspark.sql import functions as F\n",
    "from pyspark.sql.functions import desc, asc\n",
    "\n",
    "from datetime import datetime, timedelta\n",
    "\n",
    "import os\n",
    "\n",
    "import config"
   ]
  },
  {
   "cell_type": "markdown",
   "id": "green-workplace",
   "metadata": {},
   "source": [
    "## Configure Connection"
   ]
  },
  {
   "cell_type": "code",
   "execution_count": 56,
   "id": "joined-confirmation",
   "metadata": {},
   "outputs": [],
   "source": [
    "# sc.stop()"
   ]
  },
  {
   "cell_type": "code",
   "execution_count": 3,
   "id": "valid-profile",
   "metadata": {},
   "outputs": [],
   "source": [
    "output_data = \"test_output/\""
   ]
  },
  {
   "cell_type": "code",
   "execution_count": 2,
   "id": "assisted-setting",
   "metadata": {},
   "outputs": [],
   "source": [
    "configure = SparkConf().setAppName('udac_config').setMaster('local')\n",
    "sc = SparkContext(conf = configure)"
   ]
  },
  {
   "cell_type": "code",
   "execution_count": 3,
   "id": "sensitive-samoa",
   "metadata": {},
   "outputs": [],
   "source": [
    "# getOrCreate modifies the parameters of existing Spark Session\n",
    "spark = SparkSession.builder.appName('udac_cap').config('config option', 'config value').getOrCreate()"
   ]
  },
  {
   "cell_type": "code",
   "execution_count": 4,
   "id": "unable-blues",
   "metadata": {},
   "outputs": [
    {
     "data": {
      "text/plain": [
       "[('spark.master', 'local'),\n",
       " ('spark.app.startTime', '1619645031217'),\n",
       " ('spark.app.id', 'local-1619645032105'),\n",
       " ('spark.sql.warehouse.dir',\n",
       "  'file:/Users/morgan/Documents/10_Udacity/data_eng_nano/usa-tourism-etl/spark-warehouse'),\n",
       " ('spark.driver.host', '192.168.1.2'),\n",
       " ('spark.rdd.compress', 'True'),\n",
       " ('spark.serializer.objectStreamReset', '100'),\n",
       " ('spark.app.name', 'udac_config'),\n",
       " ('spark.driver.port', '62854'),\n",
       " ('spark.submit.pyFiles', ''),\n",
       " ('spark.executor.id', 'driver'),\n",
       " ('spark.submit.deployMode', 'client'),\n",
       " ('spark.ui.showConsoleProgress', 'true')]"
      ]
     },
     "execution_count": 4,
     "metadata": {},
     "output_type": "execute_result"
    }
   ],
   "source": [
    "spark.sparkContext.getConf().getAll()"
   ]
  },
  {
   "cell_type": "markdown",
   "id": "working-dream",
   "metadata": {},
   "source": [
    "### Airports"
   ]
  },
  {
   "cell_type": "code",
   "execution_count": 7,
   "id": "funky-hindu",
   "metadata": {},
   "outputs": [],
   "source": [
    "airports = spark.read.option(\"header\", True).csv(\"data/airports.csv\")"
   ]
  },
  {
   "cell_type": "code",
   "execution_count": 8,
   "id": "alpha-export",
   "metadata": {},
   "outputs": [
    {
     "name": "stdout",
     "output_type": "stream",
     "text": [
      "+-----+-------------+--------------------+------------+---------+-----------+----------+------------+--------+---------+----------+--------------------+\n",
      "|ident|         type|                name|elevation_ft|continent|iso_country|iso_region|municipality|gps_code|iata_code|local_code|         coordinates|\n",
      "+-----+-------------+--------------------+------------+---------+-----------+----------+------------+--------+---------+----------+--------------------+\n",
      "|  00A|     heliport|   Total Rf Heliport|          11|       NA|         US|     US-PA|    Bensalem|     00A|     null|       00A|-74.9336013793945...|\n",
      "| 00AA|small_airport|Aero B Ranch Airport|        3435|       NA|         US|     US-KS|       Leoti|    00AA|     null|      00AA|-101.473911, 38.7...|\n",
      "| 00AK|small_airport|        Lowell Field|         450|       NA|         US|     US-AK|Anchor Point|    00AK|     null|      00AK|-151.695999146, 5...|\n",
      "| 00AL|small_airport|        Epps Airpark|         820|       NA|         US|     US-AL|     Harvest|    00AL|     null|      00AL|-86.7703018188476...|\n",
      "| 00AR|       closed|Newport Hospital ...|         237|       NA|         US|     US-AR|     Newport|    null|     null|      null| -91.254898, 35.6087|\n",
      "+-----+-------------+--------------------+------------+---------+-----------+----------+------------+--------+---------+----------+--------------------+\n",
      "only showing top 5 rows\n",
      "\n"
     ]
    }
   ],
   "source": [
    "airports.show(5)"
   ]
  },
  {
   "cell_type": "code",
   "execution_count": 9,
   "id": "advisory-nashville",
   "metadata": {},
   "outputs": [],
   "source": [
    "lat_long = F.split(airports.coordinates, \",\")\n",
    "airports = airports.withColumn('longitude', lat_long.getItem(0))\n",
    "airports = airports.withColumn('latitude', lat_long.getItem(1))\n",
    "\n",
    "region_split = F.split(airports.iso_region, \"-\")\n",
    "airports = airports.withColumn('state', region_split.getItem(1))"
   ]
  },
  {
   "cell_type": "code",
   "execution_count": 10,
   "id": "naval-performer",
   "metadata": {},
   "outputs": [],
   "source": [
    "airports = airports.select(['ident',\n",
    "                 'iata_code',\n",
    "                 'name','type',\n",
    "                 'municipality',\n",
    "                 'state',\n",
    "                 'local_code',\n",
    "                 'latitude',\n",
    "                 'longitude',\n",
    "                 'elevation_ft']).where(airports.iso_country==\"US\")"
   ]
  },
  {
   "cell_type": "code",
   "execution_count": 11,
   "id": "practical-invitation",
   "metadata": {},
   "outputs": [],
   "source": [
    "airports = airports.sort('iata_code', ascending=True)"
   ]
  },
  {
   "cell_type": "code",
   "execution_count": 12,
   "id": "roman-charm",
   "metadata": {},
   "outputs": [],
   "source": [
    "airports = airports.na.drop(subset='iata_code')"
   ]
  },
  {
   "cell_type": "code",
   "execution_count": 13,
   "id": "silver-range",
   "metadata": {},
   "outputs": [],
   "source": [
    "airports = airports.withColumn(\"latitude\", airports.latitude.cast('float')) \\\n",
    "                    .withColumn(\"longitude\", airports.longitude.cast('float')) \\\n",
    "                    .withColumn(\"elevation_fit\", airports.elevation_ft.cast('integer'))"
   ]
  },
  {
   "cell_type": "code",
   "execution_count": 14,
   "id": "combined-canvas",
   "metadata": {},
   "outputs": [
    {
     "name": "stdout",
     "output_type": "stream",
     "text": [
      "+-----+---------+--------------------+--------------+-------------+-----+----------+--------+---------+------------+-------------+\n",
      "|ident|iata_code|                name|          type| municipality|state|local_code|latitude|longitude|elevation_ft|elevation_fit|\n",
      "+-----+---------+--------------------+--------------+-------------+-----+----------+--------+---------+------------+-------------+\n",
      "| KAAF|      AAF|Apalachicola Regi...| small_airport| Apalachicola|   FL|       AAF| 29.7275| -85.0275|          20|           20|\n",
      "| KAAP|      AAP|      Andrau Airpark|        closed|      Houston|   TX|       AAP| 29.7225| -95.5883|          79|           79|\n",
      "| KABE|      ABE|Lehigh Valley Int...|medium_airport|    Allentown|   PA|       ABE| 40.6521| -75.4408|         393|          393|\n",
      "| KABI|      ABI|Abilene Regional ...|medium_airport|      Abilene|   TX|       ABI| 32.4113| -99.6819|        1791|         1791|\n",
      "| PAFM|      ABL|      Ambler Airport|medium_airport|       Ambler|   AK|       AFM| 67.1063| -157.857|         334|          334|\n",
      "| KABQ|      ABQ|Albuquerque Inter...| large_airport|  Albuquerque|   NM|       ABQ| 35.0402| -106.609|        5355|         5355|\n",
      "| KABR|      ABR|Aberdeen Regional...|medium_airport|     Aberdeen|   SD|       ABR| 45.4491| -98.4218|        1302|         1302|\n",
      "| KABY|      ABY|Southwest Georgia...|medium_airport|       Albany|   GA|       ABY| 31.5355| -84.1945|         197|          197|\n",
      "| KACB|      ACB|Antrim County Air...| small_airport|     Bellaire|   MI|       ACB| 44.9886| -85.1984|         623|          623|\n",
      "| KACK|      ACK|Nantucket Memoria...|medium_airport|    Nantucket|   MA|       ACK| 41.2531| -70.0602|          47|           47|\n",
      "| KACT|      ACT|Waco Regional Air...|medium_airport|         Waco|   TX|       ACT| 31.6113| -97.2305|         516|          516|\n",
      "| KACV|      ACV|California Redwoo...|medium_airport|Arcata/Eureka|   CA|       ACV| 40.9781| -124.109|         221|          221|\n",
      "| KACY|      ACY|Atlantic City Int...|medium_airport|Atlantic City|   NJ|       ACY| 39.4576| -74.5772|          75|           75|\n",
      "| KADG|      ADG|Lenawee County Ai...| small_airport|       Adrian|   MI|       ADG| 41.8677| -84.0773|         798|          798|\n",
      "| PADK|      ADK|        Adak Airport|medium_airport|  Adak Island|   AK|       ADK|  51.878| -176.646|          18|           18|\n",
      "| KADM|      ADM|Ardmore Municipal...| small_airport|      Ardmore|   OK|       ADM|34.30301|-97.01963|         777|          777|\n",
      "| PADQ|      ADQ|      Kodiak Airport|medium_airport|       Kodiak|   AK|       ADQ|   57.75| -152.494|          78|           78|\n",
      "| KPHH|      ADR|Robert F Swinnie ...| small_airport|      Andrews|   SC|       PHH| 33.4517| -79.5262|          26|           26|\n",
      "| KADS|      ADS|     Addison Airport| small_airport|       Dallas|   TX|       ADS| 32.9686| -96.8364|         644|          644|\n",
      "| KADH|      ADT|Ada Regional Airport| small_airport|          Ada|   OK|       ADH| 34.8043| -96.6713|        1016|         1016|\n",
      "+-----+---------+--------------------+--------------+-------------+-----+----------+--------+---------+------------+-------------+\n",
      "only showing top 20 rows\n",
      "\n"
     ]
    }
   ],
   "source": [
    "airports.show()"
   ]
  },
  {
   "cell_type": "markdown",
   "id": "pretty-owner",
   "metadata": {},
   "source": [
    "#### Successfully created parquets"
   ]
  },
  {
   "cell_type": "code",
   "execution_count": 15,
   "id": "structured-median",
   "metadata": {},
   "outputs": [],
   "source": [
    "#airports.write.mode('overwrite').parquet(os.path.join(output_data, \"airports\"))"
   ]
  },
  {
   "cell_type": "markdown",
   "id": "indoor-calibration",
   "metadata": {},
   "source": [
    "---\n",
    "## USA Cities Demographics"
   ]
  },
  {
   "cell_type": "code",
   "execution_count": 59,
   "id": "given-transformation",
   "metadata": {},
   "outputs": [],
   "source": [
    "cities = spark.read.option('header', True) \\\n",
    "        .option('delimiter', \";\") \\\n",
    "        .csv(\"data/us_cities_demographics.csv\")"
   ]
  },
  {
   "cell_type": "code",
   "execution_count": 60,
   "id": "humanitarian-buffer",
   "metadata": {},
   "outputs": [],
   "source": [
    "\n",
    "for original, revised in config.USA_CITIES_RENAME_COLS.items():\n",
    "    cities = cities.withColumnRenamed(original, revised)\n",
    "\n",
    "cities = cities.withColumn(\"state_city\", F.concat_ws(\"_\", cities.state_code, cities.city))"
   ]
  },
  {
   "cell_type": "code",
   "execution_count": 61,
   "id": "usual-allowance",
   "metadata": {},
   "outputs": [],
   "source": [
    "for i_var in config.USA_CITIES_INTEGER_VARS:\n",
    "    cities = cities.withColumn(i_var, cities[i_var].cast('integer'))\n",
    "    \n",
    "for f_var in config.USA_CITIES_FLOAT_VARS:\n",
    "    cities = cities.withColumn(f_var, cities[f_var].cast('float'))"
   ]
  },
  {
   "cell_type": "code",
   "execution_count": 62,
   "id": "naughty-possession",
   "metadata": {},
   "outputs": [],
   "source": [
    "cities2 = cities.dropDuplicates([\"state_city\"])"
   ]
  },
  {
   "cell_type": "code",
   "execution_count": 63,
   "id": "acting-playback",
   "metadata": {},
   "outputs": [],
   "source": [
    "race_count = cities.select(\"state_city\", \"race\", \"race_pop\")\n",
    "race_count = race_count.withColumn(\"race_pop\", race_count.race_pop.cast('float'))\n",
    "race_count = race_count.groupBy(\"state_city\").pivot(\"race\").agg(F.first(\"race_pop\"))"
   ]
  },
  {
   "cell_type": "code",
   "execution_count": 64,
   "id": "outer-shame",
   "metadata": {},
   "outputs": [],
   "source": [
    "cities_final = cities2.join(race_count, cities2.state_city == race_count.state_city)\n",
    "cities_final = cities_final.drop(\"race\", \"race_pop\", \"state_city\", \"state_city\")"
   ]
  },
  {
   "cell_type": "code",
   "execution_count": 65,
   "id": "metropolitan-samuel",
   "metadata": {},
   "outputs": [],
   "source": [
    "for original, revised in config.RACE_RENAME_COLS.items():\n",
    "    cities_final = cities_final.withColumnRenamed(original, revised)"
   ]
  },
  {
   "cell_type": "code",
   "execution_count": 66,
   "id": "direct-ownership",
   "metadata": {},
   "outputs": [
    {
     "name": "stdout",
     "output_type": "stream",
     "text": [
      "root\n",
      " |-- city: string (nullable = true)\n",
      " |-- state: string (nullable = true)\n",
      " |-- median_age: float (nullable = true)\n",
      " |-- male_pop: integer (nullable = true)\n",
      " |-- female_pop: integer (nullable = true)\n",
      " |-- total_pop: integer (nullable = true)\n",
      " |-- num_veterans: integer (nullable = true)\n",
      " |-- num_foreigners: integer (nullable = true)\n",
      " |-- avg_household_size: float (nullable = true)\n",
      " |-- state_code: string (nullable = true)\n",
      " |-- native_american_pop: float (nullable = true)\n",
      " |-- asian_pop: float (nullable = true)\n",
      " |-- black_american_pop: float (nullable = true)\n",
      " |-- hispanic_pop: float (nullable = true)\n",
      " |-- white_pop: float (nullable = true)\n",
      "\n"
     ]
    }
   ],
   "source": [
    "cities_final.printSchema()"
   ]
  },
  {
   "cell_type": "markdown",
   "id": "cardiovascular-bishop",
   "metadata": {},
   "source": [
    "#### Successfully created parquets"
   ]
  },
  {
   "cell_type": "code",
   "execution_count": 24,
   "id": "incorrect-planet",
   "metadata": {},
   "outputs": [],
   "source": [
    "\n",
    "# cities_final.write.mode('overwrite').parquet(os.path.join(output_data, \"cities\"))"
   ]
  },
  {
   "cell_type": "markdown",
   "id": "introductory-composer",
   "metadata": {},
   "source": [
    "---\n",
    "## USA Temperatures"
   ]
  },
  {
   "cell_type": "code",
   "execution_count": 25,
   "id": "alike-japanese",
   "metadata": {},
   "outputs": [],
   "source": [
    "temperatures = spark.read.option('header', True) \\\n",
    "                .csv(\"data/GlobalLandTemperaturesByCity.csv\")"
   ]
  },
  {
   "cell_type": "code",
   "execution_count": 26,
   "id": "utility-zoning",
   "metadata": {},
   "outputs": [
    {
     "name": "stdout",
     "output_type": "stream",
     "text": [
      "root\n",
      " |-- dt: string (nullable = true)\n",
      " |-- AverageTemperature: string (nullable = true)\n",
      " |-- AverageTemperatureUncertainty: string (nullable = true)\n",
      " |-- City: string (nullable = true)\n",
      " |-- Country: string (nullable = true)\n",
      " |-- Latitude: string (nullable = true)\n",
      " |-- Longitude: string (nullable = true)\n",
      "\n"
     ]
    }
   ],
   "source": [
    "temperatures.printSchema()"
   ]
  },
  {
   "cell_type": "code",
   "execution_count": 27,
   "id": "dated-reporter",
   "metadata": {},
   "outputs": [
    {
     "name": "stdout",
     "output_type": "stream",
     "text": [
      "+----------+------------------+-----------------------------+-----+-------+--------+---------+\n",
      "|        dt|AverageTemperature|AverageTemperatureUncertainty| City|Country|Latitude|Longitude|\n",
      "+----------+------------------+-----------------------------+-----+-------+--------+---------+\n",
      "|1743-11-01|             6.068|           1.7369999999999999|Århus|Denmark|  57.05N|   10.33E|\n",
      "|1743-12-01|              null|                         null|Århus|Denmark|  57.05N|   10.33E|\n",
      "|1744-01-01|              null|                         null|Århus|Denmark|  57.05N|   10.33E|\n",
      "+----------+------------------+-----------------------------+-----+-------+--------+---------+\n",
      "only showing top 3 rows\n",
      "\n"
     ]
    }
   ],
   "source": [
    "temperatures.show(3)"
   ]
  },
  {
   "cell_type": "code",
   "execution_count": 28,
   "id": "supported-furniture",
   "metadata": {},
   "outputs": [],
   "source": [
    "temperatures = temperatures.select(\"*\").where((temperatures.Country == \"United States\") & (temperatures.dt > \"1969-12-31\"))"
   ]
  },
  {
   "cell_type": "code",
   "execution_count": 29,
   "id": "pregnant-mother",
   "metadata": {},
   "outputs": [],
   "source": [
    "temperatures = temperatures.withColumnRenamed(\"dt\", \"date_time\") \\\n",
    "                            .withColumnRenamed(\"AverageTemperature\", \"avg_daily_temp\") \\\n",
    "                            .withColumnRenamed(\"AverageTemperatureUncertainty\", \"avg_temp_temp_uncertainty\") \\\n",
    "                            .withColumnRenamed(\"City\", \"city\") \\\n",
    "                            .withColumnRenamed(\"Latitude\", \"latitude\") \\\n",
    "                            .withColumnRenamed(\"Longitude\", \"longitude\")"
   ]
  },
  {
   "cell_type": "code",
   "execution_count": 30,
   "id": "appropriate-partner",
   "metadata": {},
   "outputs": [],
   "source": [
    "temperatures = temperatures.withColumn(\"lat_length\", F.length(\"latitude\")) \\\n",
    "                            .withColumn(\"long_length\", F.length(\"longitude\")) \\\n",
    "                            .withColumn(\"latitude_2\", F.expr(\"\"\"substr(latitude, 1, lat_length-1)\"\"\")) \\\n",
    "                            .withColumn(\"longitude_2\", F.expr(\"\"\"substr(longitude, 1, long_length-1)\"\"\")) "
   ]
  },
  {
   "cell_type": "code",
   "execution_count": 31,
   "id": "favorite-mobility",
   "metadata": {},
   "outputs": [],
   "source": [
    "temperatures = temperatures.withColumn(\"latitude\", temperatures.latitude_2.cast('float')) \\\n",
    "                            .withColumn(\"longitude\", temperatures.longitude_2.cast('float'))\n",
    "\n",
    "temperatures = temperatures.withColumn(\"longitude\", -1 * col(\"longitude\"))\n",
    "\n",
    "temperatures = temperatures.drop(\"Country\", \"lat_length\", \"long_length\", \"latitude_2\", \"longitude_2\")"
   ]
  },
  {
   "cell_type": "code",
   "execution_count": 32,
   "id": "dated-being",
   "metadata": {},
   "outputs": [
    {
     "name": "stdout",
     "output_type": "stream",
     "text": [
      "+----------+--------------+-------------------------+-------+--------+---------+\n",
      "| date_time|avg_daily_temp|avg_temp_temp_uncertainty|   city|latitude|longitude|\n",
      "+----------+--------------+-------------------------+-------+--------+---------+\n",
      "|1970-01-01|         3.969|                    0.289|Abilene|   32.95|  -100.53|\n",
      "|1970-02-01|         8.463|                    0.177|Abilene|   32.95|  -100.53|\n",
      "+----------+--------------+-------------------------+-------+--------+---------+\n",
      "only showing top 2 rows\n",
      "\n"
     ]
    }
   ],
   "source": [
    "temperatures.show(2)"
   ]
  },
  {
   "cell_type": "code",
   "execution_count": 33,
   "id": "disabled-conviction",
   "metadata": {},
   "outputs": [],
   "source": [
    "\n",
    "#temperatures.write.mode('overwrite').parquet(os.path.join(output_data, \"temperatures\"))"
   ]
  },
  {
   "cell_type": "markdown",
   "id": "solved-circus",
   "metadata": {},
   "source": [
    "---\n",
    "## Visits"
   ]
  },
  {
   "cell_type": "code",
   "execution_count": 5,
   "id": "improving-yesterday",
   "metadata": {},
   "outputs": [],
   "source": [
    "# UDF\n",
    "def convert_datetime(num_days):\n",
    "    try:\n",
    "        start = datetime(1960, 1, 1)\n",
    "        res = start + timedelta(days=int(float((num_days))))\n",
    "        return res.date()\n",
    "    except:\n",
    "        return None\n",
    "    \n",
    "udf_datetime_from_sas = udf(lambda x: convert_datetime(x), DateType())"
   ]
  },
  {
   "cell_type": "code",
   "execution_count": 6,
   "id": "outstanding-philip",
   "metadata": {},
   "outputs": [
    {
     "name": "stdout",
     "output_type": "stream",
     "text": [
      "2016-04-22\n"
     ]
    }
   ],
   "source": [
    "print(convert_datetime('20566.0'))"
   ]
  },
  {
   "cell_type": "code",
   "execution_count": 7,
   "id": "residential-council",
   "metadata": {},
   "outputs": [
    {
     "data": {
      "text/plain": [
       "20566"
      ]
     },
     "execution_count": 7,
     "metadata": {},
     "output_type": "execute_result"
    }
   ],
   "source": [
    "int(float('20566.0'))"
   ]
  },
  {
   "cell_type": "code",
   "execution_count": 9,
   "id": "monetary-bangladesh",
   "metadata": {},
   "outputs": [],
   "source": [
    "visits = spark.read.option('header', True) \\\n",
    "            .option('delimiter', \",\") \\\n",
    "            .csv(\"data/immigration_data_sample.csv\")\n",
    "\n",
    "df2 = spark.read.option('header', True).csv(\"data/airport_codes.csv\")\n",
    "\n",
    "df3 = spark.read.option('header', True).csv(\"data/country_codes.csv\")"
   ]
  },
  {
   "cell_type": "code",
   "execution_count": 10,
   "id": "corporate-celebration",
   "metadata": {},
   "outputs": [],
   "source": [
    "cities_dict = df2.withColumn(\"city\", F.split(col(\"airport\"), \",\").getItem(0))\n",
    "\n",
    "cities_dict = cities_dict.withColumn(\"city\", F.initcap(\"city\")) \\\n",
    "                        .drop(\"airport\", \"state\")"
   ]
  },
  {
   "cell_type": "code",
   "execution_count": 11,
   "id": "geological-august",
   "metadata": {},
   "outputs": [],
   "source": [
    "countries_dict = df3.withColumn(\"country\", F.initcap(\"country\")) \\\n",
    "                    .withColumn(\"country_code\", df3[\"country_code\"].cast('integer')) \\\n",
    "                    "
   ]
  },
  {
   "cell_type": "code",
   "execution_count": 12,
   "id": "featured-engineer",
   "metadata": {},
   "outputs": [
    {
     "name": "stdout",
     "output_type": "stream",
     "text": [
      "root\n",
      " |-- _c0: string (nullable = true)\n",
      " |-- cicid: string (nullable = true)\n",
      " |-- i94yr: string (nullable = true)\n",
      " |-- i94mon: string (nullable = true)\n",
      " |-- i94cit: string (nullable = true)\n",
      " |-- i94res: string (nullable = true)\n",
      " |-- i94port: string (nullable = true)\n",
      " |-- arrdate: string (nullable = true)\n",
      " |-- i94mode: string (nullable = true)\n",
      " |-- i94addr: string (nullable = true)\n",
      " |-- depdate: string (nullable = true)\n",
      " |-- i94bir: string (nullable = true)\n",
      " |-- i94visa: string (nullable = true)\n",
      " |-- count: string (nullable = true)\n",
      " |-- dtadfile: string (nullable = true)\n",
      " |-- visapost: string (nullable = true)\n",
      " |-- occup: string (nullable = true)\n",
      " |-- entdepa: string (nullable = true)\n",
      " |-- entdepd: string (nullable = true)\n",
      " |-- entdepu: string (nullable = true)\n",
      " |-- matflag: string (nullable = true)\n",
      " |-- biryear: string (nullable = true)\n",
      " |-- dtaddto: string (nullable = true)\n",
      " |-- gender: string (nullable = true)\n",
      " |-- insnum: string (nullable = true)\n",
      " |-- airline: string (nullable = true)\n",
      " |-- admnum: string (nullable = true)\n",
      " |-- fltno: string (nullable = true)\n",
      " |-- visatype: string (nullable = true)\n",
      "\n"
     ]
    }
   ],
   "source": [
    "visits.printSchema()"
   ]
  },
  {
   "cell_type": "code",
   "execution_count": 13,
   "id": "satisfied-valve",
   "metadata": {},
   "outputs": [
    {
     "data": {
      "text/plain": [
       "Column<'arrdate'>"
      ]
     },
     "execution_count": 13,
     "metadata": {},
     "output_type": "execute_result"
    }
   ],
   "source": [
    "visits.arrdate"
   ]
  },
  {
   "cell_type": "code",
   "execution_count": 14,
   "id": "specified-payroll",
   "metadata": {},
   "outputs": [],
   "source": [
    "# KEEP FOR LATER REFERENCE\n",
    "\n",
    "# deleteWhitespaceUDF = udf(lambda s: s.replace(\" \", \"\") if type(s) is str else s, StringType())\n",
    "# deleteApostropheUDF = udf(lambda s: s.replace(\"''\", \"\") if type(s) is str else s, StringType())\n",
    "# airports2_dict = airports2_dict.withColumn(\"state_cleaned\", F.expr(\"substring(state, 1, length(state)-1)\"))\n",
    "# airports2_dict = airports2_dict.withColumn(\"state\", deleteApostropheUDF(\"state\"))"
   ]
  },
  {
   "cell_type": "code",
   "execution_count": 15,
   "id": "armed-special",
   "metadata": {},
   "outputs": [
    {
     "name": "stdout",
     "output_type": "stream",
     "text": [
      "+-------+---------+------+------+------+------+-------+-------+-------+-------+-------+------+-------+-----+--------+--------+-----+-------+-------+-------+-------+-------+--------+------+------+-------+-------------+-----+--------+\n",
      "|    _c0|    cicid| i94yr|i94mon|i94cit|i94res|i94port|arrdate|i94mode|i94addr|depdate|i94bir|i94visa|count|dtadfile|visapost|occup|entdepa|entdepd|entdepu|matflag|biryear| dtaddto|gender|insnum|airline|       admnum|fltno|visatype|\n",
      "+-------+---------+------+------+------+------+-------+-------+-------+-------+-------+------+-------+-----+--------+--------+-----+-------+-------+-------+-------+-------+--------+------+------+-------+-------------+-----+--------+\n",
      "|2027561|4084316.0|2016.0|   4.0| 209.0| 209.0|    HHW|20566.0|    1.0|     HI|20573.0|  61.0|    2.0|  1.0|20160422|    null| null|      G|      O|   null|      M| 1955.0|07202016|     F|  null|     JL|56582674633.0|00782|      WT|\n",
      "|2171295|4422636.0|2016.0|   4.0| 582.0| 582.0|    MCA|20567.0|    1.0|     TX|20568.0|  26.0|    2.0|  1.0|20160423|     MTR| null|      G|      R|   null|      M| 1990.0|10222016|     M|  null|    *GA|94361995930.0|XBLNG|      B2|\n",
      "| 589494|1195600.0|2016.0|   4.0| 148.0| 112.0|    OGG|20551.0|    1.0|     FL|20571.0|  76.0|    2.0|  1.0|20160407|    null| null|      G|      O|   null|      M| 1940.0|07052016|     M|  null|     LH|55780468433.0|00464|      WT|\n",
      "|2631158|5291768.0|2016.0|   4.0| 297.0| 297.0|    LOS|20572.0|    1.0|     CA|20581.0|  25.0|    2.0|  1.0|20160428|     DOH| null|      G|      O|   null|      M| 1991.0|10272016|     M|  null|     QR|94789696030.0|00739|      B2|\n",
      "+-------+---------+------+------+------+------+-------+-------+-------+-------+-------+------+-------+-----+--------+--------+-----+-------+-------+-------+-------+-------+--------+------+------+-------+-------------+-----+--------+\n",
      "only showing top 4 rows\n",
      "\n"
     ]
    }
   ],
   "source": [
    "visits.show(4)"
   ]
  },
  {
   "cell_type": "code",
   "execution_count": 16,
   "id": "signed-constraint",
   "metadata": {},
   "outputs": [],
   "source": [
    "visits2 = visits.withColumn(\"arrival_date\", udf_datetime_from_sas(col(\"arrdate\"))) \\\n",
    "                .withColumn(\"departure_date\", udf_datetime_from_sas(col(\"depdate\"))) \\\n",
    "                .drop(\"insnum\", \"dtadfile\", \"fltno\", 'i94bir', \"occup\", \"admnum\", \"visapost\", \"entdepu\", \"arrdate\", \"depdate\", \"matflag\")"
   ]
  },
  {
   "cell_type": "code",
   "execution_count": 17,
   "id": "imposed-carroll",
   "metadata": {},
   "outputs": [],
   "source": [
    "for original, renamed in config.TOURISM_RENAME_COLS.items():\n",
    "    visits2 = visits2.withColumnRenamed(original, renamed)"
   ]
  },
  {
   "cell_type": "code",
   "execution_count": 18,
   "id": "wrong-circumstances",
   "metadata": {},
   "outputs": [],
   "source": [
    "cast_to_integer = [\"citizen_id\", \"arrival_yr\", \"arrival_month\", \"citizen_cntry_code\", \"residency_cntry_code\", \"travel_mode\",\n",
    "                \"reason_for_travel\", \"num_people\", \"birth_year\"]\n",
    "\n",
    "for feature in config.TOURISM_INTEGER_VARS:\n",
    "    visits2 = visits2.withColumn(feature, visits2[feature].cast('integer'))"
   ]
  },
  {
   "cell_type": "code",
   "execution_count": 19,
   "id": "quality-meeting",
   "metadata": {},
   "outputs": [
    {
     "name": "stdout",
     "output_type": "stream",
     "text": [
      "+--------+----------+----------+-------------+------------------+--------------------+-------+-----------+-------------+-----------------+----------+-------+-------+----------+--------+------+-------+---------+------------+--------------+\n",
      "|visit_id|citizen_id|arrival_yr|arrival_month|citizen_cntry_code|residency_cntry_code|airport|travel_mode|airport_state|reason_for_travel|num_people|entdepa|entdepd|birth_year| dtaddto|gender|airline|visa_type|arrival_date|departure_date|\n",
      "+--------+----------+----------+-------------+------------------+--------------------+-------+-----------+-------------+-----------------+----------+-------+-------+----------+--------+------+-------+---------+------------+--------------+\n",
      "| 2027561|   4084316|      2016|            4|               209|                 209|    HHW|          1|           HI|                2|         1|      G|      O|      1955|07202016|     F|     JL|       WT|  2016-04-22|    2016-04-29|\n",
      "| 2171295|   4422636|      2016|            4|               582|                 582|    MCA|          1|           TX|                2|         1|      G|      R|      1990|10222016|     M|    *GA|       B2|  2016-04-23|    2016-04-24|\n",
      "|  589494|   1195600|      2016|            4|               148|                 112|    OGG|          1|           FL|                2|         1|      G|      O|      1940|07052016|     M|     LH|       WT|  2016-04-07|    2016-04-27|\n",
      "| 2631158|   5291768|      2016|            4|               297|                 297|    LOS|          1|           CA|                2|         1|      G|      O|      1991|10272016|     M|     QR|       B2|  2016-04-28|    2016-05-07|\n",
      "| 3032257|    985523|      2016|            4|               111|                 111|    CHM|          3|           NY|                2|         1|      Z|      K|      1997|07042016|     F|   null|       WT|  2016-04-06|    2016-04-09|\n",
      "|  721257|   1481650|      2016|            4|               577|                 577|    ATL|          1|           GA|                2|         1|      T|      N|      1965|10072016|     M|     DL|       B2|  2016-04-08|    2016-06-01|\n",
      "| 1072780|   2197173|      2016|            4|               245|                 245|    SFR|          1|           CA|                2|         1|      T|      O|      1968|10112016|     F|     CX|       B2|  2016-04-12|    2016-06-30|\n",
      "|  112205|    232708|      2016|            4|               113|                 135|    NYC|          1|           NY|                2|         1|      G|      O|      1983|06302016|     F|     BA|       WT|  2016-04-02|    2016-04-10|\n",
      "| 2577162|   5227851|      2016|            4|               131|                 131|    CHI|          1|           IL|                2|         1|      O|      O|      1977|07262016|  null|     LX|       WT|  2016-04-28|    2016-05-01|\n",
      "|   10930|     13213|      2016|            4|               116|                 116|    LOS|          1|           CA|                2|         1|      O|      O|      1981|06292016|  null|     AA|       WT|  2016-04-01|    2016-04-09|\n",
      "+--------+----------+----------+-------------+------------------+--------------------+-------+-----------+-------------+-----------------+----------+-------+-------+----------+--------+------+-------+---------+------------+--------------+\n",
      "only showing top 10 rows\n",
      "\n"
     ]
    }
   ],
   "source": [
    "visits2.show(10)"
   ]
  },
  {
   "cell_type": "markdown",
   "id": "about-charter",
   "metadata": {},
   "source": [
    "#### Join all 3 dataframes"
   ]
  },
  {
   "cell_type": "code",
   "execution_count": 20,
   "id": "patent-ethics",
   "metadata": {},
   "outputs": [],
   "source": [
    "tourism_final = visits2.join(countries_dict, visits2.citizen_cntry_code == countries_dict.country_code, how ='left')\n",
    "tourism_final = tourism_final.withColumnRenamed(\"country\", \"citizen_country\") \\\n",
    "                            .drop(\"country_code\")\n",
    "\n",
    "tourism_final = tourism_final.join(countries_dict, tourism_final.residency_cntry_code == countries_dict.country_code, how='left')\n",
    "tourism_final = tourism_final.withColumnRenamed(\"country\", \"residency_country\") \\\n",
    "                            .drop(\"country_code\")"
   ]
  },
  {
   "cell_type": "code",
   "execution_count": 21,
   "id": "prospective-waterproof",
   "metadata": {},
   "outputs": [],
   "source": [
    "tourism_final = tourism_final.join(cities_dict, tourism_final.airport == cities_dict.airport_code, how='left')\n",
    "tourism_final = tourism_final.withColumnRenamed(\"city\", \"airport_city\") \\\n",
    "                            .drop(\"airport_code\")"
   ]
  },
  {
   "cell_type": "code",
   "execution_count": 22,
   "id": "superb-valuable",
   "metadata": {},
   "outputs": [],
   "source": [
    "# tourism_final.show(5)"
   ]
  },
  {
   "cell_type": "markdown",
   "id": "herbal-montreal",
   "metadata": {},
   "source": [
    "#### Change the value of certain columns of the Final Dataframes "
   ]
  },
  {
   "cell_type": "code",
   "execution_count": 23,
   "id": "brave-paint",
   "metadata": {},
   "outputs": [],
   "source": [
    "travel_mode_func = udf(lambda x: config.MODE_OF_TRAVEL.get(x), StringType())\n",
    "travel_reason_func = udf(lambda x: config.REASON_FOR_TRAVEL.get(x), StringType())\n",
    "maritime_signals_func = udf(lambda x: config.MARITIME_SIGNAL_FLAGS.get(x), StringType())\n",
    "\n",
    "tourism_final = tourism_final.withColumn(\"travel_mode\", travel_mode_func(tourism_final.travel_mode)) \\\n",
    "                            .withColumn(\"reason_for_travel\", travel_reason_func(tourism_final.reason_for_travel)) \\\n",
    "                            .withColumn(\"maritime_status_arrival\", maritime_signals_func(tourism_final.entdepa)) \\\n",
    "                            .withColumn(\"maritime_status_departure\", maritime_signals_func(tourism_final.entdepd)) \\\n",
    "                            .drop(\"entedepa\", \"entdepd\")"
   ]
  },
  {
   "cell_type": "code",
   "execution_count": 24,
   "id": "historic-characterization",
   "metadata": {},
   "outputs": [
    {
     "name": "stdout",
     "output_type": "stream",
     "text": [
      "+--------+----------+----------+-------------+------------------+--------------------+-------+-----------+-------------+-----------------+----------+-------+----------+--------+------+-------+---------+------------+--------------+---------------+-----------------+--------------+-----------------------+-------------------------+\n",
      "|visit_id|citizen_id|arrival_yr|arrival_month|citizen_cntry_code|residency_cntry_code|airport|travel_mode|airport_state|reason_for_travel|num_people|entdepa|birth_year| dtaddto|gender|airline|visa_type|arrival_date|departure_date|citizen_country|residency_country|  airport_city|maritime_status_arrival|maritime_status_departure|\n",
      "+--------+----------+----------+-------------+------------------+--------------------+-------+-----------+-------------+-----------------+----------+-------+----------+--------+------+-------+---------+------------+--------------+---------------+-----------------+--------------+-----------------------+-------------------------+\n",
      "| 2027561|   4084316|      2016|            4|               209|                 209|    HHW|        Air|           HI|         Pleasure|         1|      G|      1955|07202016|     F|     JL|       WT|  2016-04-22|    2016-04-29|          Japan|            Japan|      Honolulu|        Require a pilot|            Man overboard|\n",
      "| 2171295|   4422636|      2016|            4|               582|                 582|    MCA|        Air|           TX|         Pleasure|         1|      G|      1990|10222016|     M|    *GA|       B2|  2016-04-23|    2016-04-24|         Mexico|           Mexico|       Mcallen|        Require a pilot|     My vessel is off ...|\n",
      "|  589494|   1195600|      2016|            4|               148|                 112|    OGG|        Air|           FL|         Pleasure|         1|      G|      1940|07052016|     M|     LH|       WT|  2016-04-07|    2016-04-27|           null|          Germany|Kahului - Maui|        Require a pilot|            Man overboard|\n",
      "| 2631158|   5291768|      2016|            4|               297|                 297|    LOS|        Air|           CA|         Pleasure|         1|      G|      1991|10272016|     M|     QR|       B2|  2016-04-28|    2016-05-07|          Qatar|            Qatar|   Los Angeles|        Require a pilot|            Man overboard|\n",
      "| 3032257|    985523|      2016|            4|               111|                 111|    CHM|       Land|           NY|         Pleasure|         1|      Z|      1997|07042016|     F|   null|       WT|  2016-04-06|    2016-04-09|         France|           France|     Champlain|   Call to shore sta...|     Stop vessel insta...|\n",
      "+--------+----------+----------+-------------+------------------+--------------------+-------+-----------+-------------+-----------------+----------+-------+----------+--------+------+-------+---------+------------+--------------+---------------+-----------------+--------------+-----------------------+-------------------------+\n",
      "only showing top 5 rows\n",
      "\n"
     ]
    }
   ],
   "source": [
    "tourism_final.show(5)"
   ]
  },
  {
   "cell_type": "markdown",
   "id": "reliable-borough",
   "metadata": {},
   "source": [
    "## Query 1"
   ]
  },
  {
   "cell_type": "code",
   "execution_count": 37,
   "id": "developed-strengthening",
   "metadata": {},
   "outputs": [
    {
     "name": "stdout",
     "output_type": "stream",
     "text": [
      "+-------+-----------------------+-----+\n",
      "|airline|maritime_status_arrival|count|\n",
      "+-------+-----------------------+-----+\n",
      "|     AA|          Man overboard|   18|\n",
      "|     VS|          Man overboard|   12|\n",
      "|     BA|          Man overboard|   11|\n",
      "|     LH|          Man overboard|   11|\n",
      "|     DL|          Man overboard|    9|\n",
      "|     UA|   Diver below. Unde...|    7|\n",
      "|     7C|   Diver below. Unde...|    6|\n",
      "|     UA|          Man overboard|    5|\n",
      "|     JL|          Man overboard|    5|\n",
      "|     AF|          Man overboard|    5|\n",
      "|     KL|          Man overboard|    4|\n",
      "|     NH|          Man overboard|    4|\n",
      "|     MU|          Man overboard|    4|\n",
      "|     AA|   Do not pass ahead...|    3|\n",
      "|     SU|          Man overboard|    3|\n",
      "|     3U|    Your lights are out|    3|\n",
      "|     KE|   Diver below. Unde...|    3|\n",
      "|     HA|          Man overboard|    3|\n",
      "|     DL|   Do not pass ahead...|    3|\n",
      "|     DL|   Diver below. Unde...|    3|\n",
      "+-------+-----------------------+-----+\n",
      "only showing top 20 rows\n",
      "\n"
     ]
    }
   ],
   "source": [
    "arrival_status_count = tourism_final.filter(\"maritime_status_arrival  not like 'Require a pilot'\") \\\n",
    "                                    .where(tourism_final.airline.isNotNull()) \\\n",
    "                                    .groupby([tourism_final.airline, tourism_final.maritime_status_arrival]) \\\n",
    "                                    .count() \\\n",
    "                                    .sort(col(\"count\").desc())\n",
    "arrival_status_count.show()"
   ]
  },
  {
   "cell_type": "code",
   "execution_count": 53,
   "id": "north-night",
   "metadata": {},
   "outputs": [
    {
     "name": "stdout",
     "output_type": "stream",
     "text": [
      "+--------------------+---------------+\n",
      "|   residency_country|sum(num_people)|\n",
      "+--------------------+---------------+\n",
      "|              Russia|             13|\n",
      "|              Sweden|             19|\n",
      "|              Guyana|              1|\n",
      "|         Philippines|              9|\n",
      "|               Burma|              1|\n",
      "|            Malaysia|              2|\n",
      "|           Singapore|              5|\n",
      "|              Turkey|              6|\n",
      "|  Bosnia-herzegovina|              1|\n",
      "|             Germany|             52|\n",
      "| Trinidad And Tobago|              3|\n",
      "|               Sudan|              1|\n",
      "|              France|             48|\n",
      "|              Greece|              1|\n",
      "|              Taiwan|             16|\n",
      "|British Virgin Is...|              1|\n",
      "|            Slovakia|              1|\n",
      "|              Angola|              1|\n",
      "|             Belgium|              7|\n",
      "|               Qatar|              1|\n",
      "+--------------------+---------------+\n",
      "only showing top 20 rows\n",
      "\n"
     ]
    }
   ],
   "source": [
    "residency_groupby = tourism_final.where(tourism_final.residency_country.isNotNull()) \\\n",
    "                                .groupby(tourism_final.residency_country) \\\n",
    "                                .sum(\"num_people\").alias(\"total_people\") \\\n",
    "                                #.select([col(\"residency_country\"), col(\"sum(num_people)\").alias(\"total_people\")]) \\\n",
    "                                #.sort(col(\"total_people\").desc())\n",
    "                               \n",
    "                                \n",
    "\n",
    "residency_groupby.show()"
   ]
  },
  {
   "cell_type": "markdown",
   "id": "mature-upgrade",
   "metadata": {},
   "source": [
    "## Query 2"
   ]
  },
  {
   "cell_type": "code",
   "execution_count": 57,
   "id": "immediate-novel",
   "metadata": {},
   "outputs": [],
   "source": [
    "city_destination = tourism_final.where(col(\"airport_city\").isNotNull()) \\\n",
    "                                .groupby(col(\"airport_city\")) \\\n",
    "                                .sum(\"num_people\") \\\n",
    "                                .select([col(\"airport_city\"), col(\"sum(num_people)\").alias(\"total_visitors\")])\n",
    "                                "
   ]
  },
  {
   "cell_type": "code",
   "execution_count": 67,
   "id": "reserved-shooting",
   "metadata": {},
   "outputs": [
    {
     "name": "stdout",
     "output_type": "stream",
     "text": [
      "root\n",
      " |-- city: string (nullable = true)\n",
      " |-- state: string (nullable = true)\n",
      " |-- median_age: float (nullable = true)\n",
      " |-- male_pop: integer (nullable = true)\n",
      " |-- female_pop: integer (nullable = true)\n",
      " |-- total_pop: integer (nullable = true)\n",
      " |-- num_veterans: integer (nullable = true)\n",
      " |-- num_foreigners: integer (nullable = true)\n",
      " |-- avg_household_size: float (nullable = true)\n",
      " |-- state_code: string (nullable = true)\n",
      " |-- native_american_pop: float (nullable = true)\n",
      " |-- asian_pop: float (nullable = true)\n",
      " |-- black_american_pop: float (nullable = true)\n",
      " |-- hispanic_pop: float (nullable = true)\n",
      " |-- white_pop: float (nullable = true)\n",
      "\n"
     ]
    }
   ],
   "source": [
    "cities_final.printSchema()"
   ]
  },
  {
   "cell_type": "code",
   "execution_count": 74,
   "id": "novel-westminster",
   "metadata": {},
   "outputs": [],
   "source": [
    "prcnt_foreigners = cities_final.withColumn(\"prcnt_foreigners\", F.col(\"num_foreigners\") / F.col(\"total_pop\")) \\\n",
    "                            .select([col(\"city\"), F.round(col(\"prcnt_foreigners\"), 4).alias(\"prcnt_foreigners\")])"
   ]
  },
  {
   "cell_type": "code",
   "execution_count": 87,
   "id": "gentle-variable",
   "metadata": {},
   "outputs": [],
   "source": [
    "cities_foreigners = city_destination.join(prcnt_foreigners, city_destination.airport_city == prcnt_foreigners.city, how='right') \\\n",
    "                                .sort(col(\"total_visitors\").desc()) \\\n",
    "                                .select(col(\"city\"), col(\"total_visitors\"), col(\"prcnt_foreigners\"))"
   ]
  },
  {
   "cell_type": "code",
   "execution_count": 88,
   "id": "baking-booking",
   "metadata": {},
   "outputs": [
    {
     "name": "stdout",
     "output_type": "stream",
     "text": [
      "+---------------+--------------+----------------+\n",
      "|           city|total_visitors|prcnt_foreigners|\n",
      "+---------------+--------------+----------------+\n",
      "|       New York|           155|          0.3757|\n",
      "|          Miami|           111|          0.5914|\n",
      "|    Los Angeles|           106|           0.374|\n",
      "|  San Francisco|            55|          0.3437|\n",
      "|        Chicago|            45|          0.2108|\n",
      "|        Orlando|            39|          0.1866|\n",
      "|        Atlanta|            37|           0.069|\n",
      "|        Houston|            31|          0.3029|\n",
      "|Fort Lauderdale|            27|          0.2664|\n",
      "|      Las Vegas|            22|          0.2046|\n",
      "|         Dallas|            18|          0.2514|\n",
      "|         Boston|            18|           0.284|\n",
      "|        Seattle|            16|          0.1751|\n",
      "|        Phoenix|            15|          0.1924|\n",
      "|        Detroit|            12|          0.0589|\n",
      "|          Tampa|            12|          0.1593|\n",
      "|   Philadelphia|            11|           0.131|\n",
      "|     Fort Myers|             6|          0.2076|\n",
      "|      Charlotte|             6|          0.1558|\n",
      "|       Portland|             4|           0.138|\n",
      "+---------------+--------------+----------------+\n",
      "only showing top 20 rows\n",
      "\n"
     ]
    }
   ],
   "source": [
    "cities_foreigners.show()"
   ]
  },
  {
   "cell_type": "code",
   "execution_count": null,
   "id": "suited-pulse",
   "metadata": {},
   "outputs": [],
   "source": []
  }
 ],
 "metadata": {
  "kernelspec": {
   "display_name": "Python 3",
   "language": "python",
   "name": "python3"
  },
  "language_info": {
   "codemirror_mode": {
    "name": "ipython",
    "version": 3
   },
   "file_extension": ".py",
   "mimetype": "text/x-python",
   "name": "python",
   "nbconvert_exporter": "python",
   "pygments_lexer": "ipython3",
   "version": "3.9.2"
  }
 },
 "nbformat": 4,
 "nbformat_minor": 5
}
