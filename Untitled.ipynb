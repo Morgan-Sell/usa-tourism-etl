{
 "cells": [
  {
   "cell_type": "code",
   "execution_count": 2,
   "id": "incorrect-spine",
   "metadata": {},
   "outputs": [],
   "source": [
    "import pandas as pd\n",
    "import numpy as np\n",
    "\n",
    "import configparser\n",
    "from pyspark.sql import SparkSession, Window\n",
    "from pyspark import SparkContext, SparkConf\n",
    "from pyspark.sql.functions import udf, col, monotonically_increasing_id, row_number\n",
    "from pyspark.sql.functions import year, month, dayofmonth, hour, weekofyear, date_format\n",
    "from pyspark.sql.types import TimestampType, DateType, StringType\n",
    "from pyspark.sql import functions as F\n",
    "\n",
    "from datetime import datetime, timedelta\n",
    "import os\n",
    "\n",
    "import config\n",
    "\n",
    "from etl import create_spark_session"
   ]
  },
  {
   "cell_type": "code",
   "execution_count": 4,
   "id": "reliable-calvin",
   "metadata": {},
   "outputs": [],
   "source": [
    "def convert_datetime(num_days):\n",
    "    \"\"\"\n",
    "    Converts a uni-codic numeric string value to a date object.\n",
    "    \"\"\"\n",
    "    try:\n",
    "        start = datetime(1960, 1, 1)\n",
    "        res = start + timedelta(days=int(float((num_days))))\n",
    "        return res.date()\n",
    "    except:\n",
    "        return None"
   ]
  },
  {
   "cell_type": "code",
   "execution_count": 3,
   "id": "electric-cutting",
   "metadata": {},
   "outputs": [],
   "source": [
    "config_app_name = \"udac_config\"\n",
    "session_app_name = \"udac_cap\"\n",
    "\n",
    "spark = create_spark_session(config_app_name, session_app_name)\n",
    "\n",
    "\n",
    "output_data = \"test_output/\"\n",
    "\n",
    "# Test aiport data function\n",
    "input_data = \"data/us_cities_demographics.csv\"\n",
    "#process_cities_demographics_data(spark, input_data, output_data)\n",
    "\n",
    "tourism_data = \"data/immigration_data_sample.csv\"\n",
    "airport_codes = \"data/airport_dict.csv\"\n",
    "country_codes = \"data/country_codes.csv\""
   ]
  },
  {
   "cell_type": "code",
   "execution_count": 17,
   "id": "taken-limitation",
   "metadata": {},
   "outputs": [],
   "source": [
    "tourism = spark.read.option('header', True) \\\n",
    "                    .csv(tourism_data)\n",
    "#.option('delimiter', \";\") \\\n",
    "                \n",
    "\n",
    "airports = spark.read.option('header', True).csv(airport_codes)\n",
    "countries = spark.read.option('header', True).csv(country_codes)\n",
    "\n",
    "# Create airport-cities dictionary\n",
    "airports2 = airports.withColumn(\"city\", F.split(col(\"airport\"), \",\").getItem(0))\n",
    "airports2 = airports2.withColumn(\"city\", F.initcap(\"city\")) \\\n",
    "                    .drop(\"airport\")\n",
    "\n",
    "# Create country-I94 code dictionary\n",
    "udf_datetime_from_sas = udf(lambda x: convert_datetime(x), DateType())\n",
    "countries2 = countries.withColumn(\"country\", F.initcap(\"country\")) \\\n",
    "                    .withColumn(\"country_code\", countries.country_code.cast('integer'))\n",
    "\n",
    "\n",
    "# Process tourism data\n",
    "udf_datetime_from_sas = udf(lambda x: convert_datetime(x), DateType())\n",
    "cols_to_drop = [\"insnum\", \"dtadfile\", \"fltno\", \"i94bir\", \"occup\", \"matflag\",\n",
    "                \"admnum\", \"entdepu\", \"visapost\", \"arrdate\", \"depdate\"]\n",
    "\n",
    "\n",
    "tourism2 = tourism.withColumn(\"arrival_date\", udf_datetime_from_sas(tourism.arrdate)) \\\n",
    "                .withColumn(\"departure_date\", udf_datetime_from_sas(tourism.depdate)) \\\n",
    "                .drop(*cols_to_drop)"
   ]
  },
  {
   "cell_type": "code",
   "execution_count": 18,
   "id": "christian-pittsburgh",
   "metadata": {},
   "outputs": [
    {
     "name": "stdout",
     "output_type": "stream",
     "text": [
      "root\n",
      " |-- _c0: string (nullable = true)\n",
      " |-- cicid: string (nullable = true)\n",
      " |-- i94yr: string (nullable = true)\n",
      " |-- i94mon: string (nullable = true)\n",
      " |-- i94cit: string (nullable = true)\n",
      " |-- i94res: string (nullable = true)\n",
      " |-- i94port: string (nullable = true)\n",
      " |-- i94mode: string (nullable = true)\n",
      " |-- i94addr: string (nullable = true)\n",
      " |-- i94visa: string (nullable = true)\n",
      " |-- count: string (nullable = true)\n",
      " |-- entdepa: string (nullable = true)\n",
      " |-- entdepd: string (nullable = true)\n",
      " |-- biryear: string (nullable = true)\n",
      " |-- dtaddto: string (nullable = true)\n",
      " |-- gender: string (nullable = true)\n",
      " |-- airline: string (nullable = true)\n",
      " |-- visatype: string (nullable = true)\n",
      " |-- arrival_date: date (nullable = true)\n",
      " |-- departure_date: date (nullable = true)\n",
      "\n"
     ]
    }
   ],
   "source": [
    "tourism2.printSchema()"
   ]
  },
  {
   "cell_type": "code",
   "execution_count": 12,
   "id": "close-preserve",
   "metadata": {},
   "outputs": [
    {
     "name": "stdout",
     "output_type": "stream",
     "text": [
      "root\n",
      " |-- _c0: string (nullable = true)\n",
      " |-- cicid: string (nullable = true)\n",
      " |-- i94yr: string (nullable = true)\n",
      " |-- i94mon: string (nullable = true)\n",
      " |-- i94cit: string (nullable = true)\n",
      " |-- i94res: string (nullable = true)\n",
      " |-- i94port: string (nullable = true)\n",
      " |-- i94mode: string (nullable = true)\n",
      " |-- i94addr: string (nullable = true)\n",
      " |-- i94visa: string (nullable = true)\n",
      " |-- count: string (nullable = true)\n",
      " |-- entdepa: string (nullable = true)\n",
      " |-- entdepd: string (nullable = true)\n",
      " |-- biryear: string (nullable = true)\n",
      " |-- dtaddto: string (nullable = true)\n",
      " |-- gender: string (nullable = true)\n",
      " |-- airline: string (nullable = true)\n",
      " |-- visatype: string (nullable = true)\n",
      " |-- departure_date: date (nullable = true)\n",
      "\n"
     ]
    }
   ],
   "source": [
    "tourism2.printSchema()"
   ]
  },
  {
   "cell_type": "code",
   "execution_count": null,
   "id": "charged-rings",
   "metadata": {},
   "outputs": [],
   "source": []
  }
 ],
 "metadata": {
  "kernelspec": {
   "display_name": "Python 3",
   "language": "python",
   "name": "python3"
  },
  "language_info": {
   "codemirror_mode": {
    "name": "ipython",
    "version": 3
   },
   "file_extension": ".py",
   "mimetype": "text/x-python",
   "name": "python",
   "nbconvert_exporter": "python",
   "pygments_lexer": "ipython3",
   "version": "3.9.2"
  }
 },
 "nbformat": 4,
 "nbformat_minor": 5
}
