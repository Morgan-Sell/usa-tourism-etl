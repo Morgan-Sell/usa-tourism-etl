{
 "cells": [
  {
   "cell_type": "markdown",
   "id": "moved-garlic",
   "metadata": {},
   "source": [
    "# Process Data"
   ]
  },
  {
   "cell_type": "code",
   "execution_count": 2,
   "id": "loved-andrew",
   "metadata": {},
   "outputs": [],
   "source": [
    "import os\n",
    "import glob\n",
    "import psycopg2\n",
    "import pandas as pd"
   ]
  },
  {
   "cell_type": "code",
   "execution_count": 3,
   "id": "classified-tackle",
   "metadata": {},
   "outputs": [],
   "source": [
    "def process_weather_data(input_data, output_data):\n",
    "    \"\"\"Extracts and clean the desired data.\n",
    "    \n",
    "    input_data: location of where the data exists and file type\n",
    "    output_data: location to export and save the data\n",
    "    \n",
    "    \n",
    "    \n",
    "    \"\"\"\n",
    "    "
   ]
  },
  {
   "cell_type": "markdown",
   "id": "noticed-roads",
   "metadata": {},
   "source": [
    "## Weather\n",
    "\n",
    "'United States"
   ]
  },
  {
   "cell_type": "code",
   "execution_count": 4,
   "id": "featured-bolivia",
   "metadata": {},
   "outputs": [],
   "source": [
    "weather = pd.read_csv('data/GlobalLandTemperaturesByCity.csv')\n",
    "weather = weather[weather.Country == 'United States'].copy()"
   ]
  },
  {
   "cell_type": "code",
   "execution_count": 5,
   "id": "optional-donor",
   "metadata": {},
   "outputs": [
    {
     "data": {
      "text/plain": [
       "(687289, 7)"
      ]
     },
     "execution_count": 5,
     "metadata": {},
     "output_type": "execute_result"
    }
   ],
   "source": [
    "weather.shape"
   ]
  },
  {
   "cell_type": "code",
   "execution_count": null,
   "id": "collectible-festival",
   "metadata": {},
   "outputs": [],
   "source": []
  }
 ],
 "metadata": {
  "kernelspec": {
   "display_name": "Python 3",
   "language": "python",
   "name": "python3"
  },
  "language_info": {
   "codemirror_mode": {
    "name": "ipython",
    "version": 3
   },
   "file_extension": ".py",
   "mimetype": "text/x-python",
   "name": "python",
   "nbconvert_exporter": "python",
   "pygments_lexer": "ipython3",
   "version": "3.9.2"
  }
 },
 "nbformat": 4,
 "nbformat_minor": 5
}
